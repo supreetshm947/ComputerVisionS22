{
 "cells": [
  {
   "cell_type": "markdown",
   "metadata": {
    "deletable": false,
    "editable": false,
    "nbgrader": {
     "cell_type": "markdown",
     "checksum": "26cab562335f7e0f2ffbdba3ecd6cd52",
     "grade": false,
     "grade_id": "cell-dd5cc37369156752",
     "locked": true,
     "schema_version": 3,
     "solution": false,
     "task": false
    }
   },
   "source": [
    "This exercise includes five parts:\n",
    "1. Gaussian filtering\n",
    "2. Fourier transform\n",
    "3. Image derivatives\n",
    "4. Edge detection\n",
    "5. Hough transform\n",
    "\n",
    "**Important:** \n",
    "Follow the instructions below when submitting your attempt.\n",
    "Submissions not following these instructions will not be graded.\n",
    "1. Do not remove or modify any given cells, except those in which you need to fill in your implementation. You can add cells in order to present additional texts or plots.\n",
    "2. Restart the kernel and re-run the whole notebook once before submission. After this step, the cell id should be incremental from top to bottom, and all plots should be displayed.\n",
    "3. Submit only the `.ipynb` file, and do not change the file name."
   ]
  },
  {
   "cell_type": "code",
   "execution_count": 1,
   "metadata": {
    "deletable": false,
    "editable": false,
    "nbgrader": {
     "cell_type": "code",
     "checksum": "9464c0e3f2287cf082a774a3a5a0b1fc",
     "grade": false,
     "grade_id": "cell-ea82104ac1cf02d8",
     "locked": true,
     "schema_version": 3,
     "solution": false,
     "task": false
    }
   },
   "outputs": [
    {
     "data": {
      "text/html": [
       "<!-- Run this cell to add heading letters per subtask (like a, b, c) -->\n",
       "<style>\n",
       "body {counter-reset: section;}\n",
       "h1:before {counter-increment: section;\n",
       "           content: counter(section, number) \". \";}\n",
       "</style>\n"
      ],
      "text/plain": [
       "<IPython.core.display.HTML object>"
      ]
     },
     "metadata": {},
     "output_type": "display_data"
    }
   ],
   "source": [
    "%%html\n",
    "<!-- Run this cell to add heading letters per subtask (like a, b, c) -->\n",
    "<style>\n",
    "body {counter-reset: section;}\n",
    "h1:before {counter-increment: section;\n",
    "           content: counter(section, number) \". \";}\n",
    "</style>"
   ]
  },
  {
   "cell_type": "code",
   "execution_count": 10,
   "metadata": {
    "deletable": false,
    "editable": false,
    "nbgrader": {
     "cell_type": "code",
     "checksum": "4b02dc8751f6afc5ad34f322de146ff7",
     "grade": false,
     "grade_id": "cell-63750c7bdb00ed93",
     "locked": true,
     "schema_version": 3,
     "solution": false,
     "task": false
    }
   },
   "outputs": [],
   "source": [
    "%matplotlib notebook\n",
    "import numpy as np\n",
    "import scipy.signal\n",
    "from scipy import ndimage\n",
    "import matplotlib as mpl\n",
    "import matplotlib.pyplot as plt\n",
    "import matplotlib.image as mpimg\n",
    "import cv2\n",
    "import imageio"
   ]
  },
  {
   "cell_type": "code",
   "execution_count": 4,
   "metadata": {},
   "outputs": [
    {
     "name": "stdout",
     "output_type": "stream",
     "text": [
      "Collecting matplotlib\n",
      "  Downloading matplotlib-3.5.1-cp310-cp310-manylinux_2_17_x86_64.manylinux2014_x86_64.whl (11.9 MB)\n",
      "\u001b[2K     \u001b[38;2;114;156;31m━━━━━━━━━━━━━━━━━━━━━━━━━━━━━━━━━━━━━━━━\u001b[0m \u001b[32m11.9/11.9 MB\u001b[0m \u001b[31m1.7 MB/s\u001b[0m eta \u001b[36m0:00:00\u001b[0mm eta \u001b[36m0:00:01\u001b[0m0:01\u001b[0m:01\u001b[0m\n",
      "\u001b[?25hCollecting numpy>=1.17\n",
      "  Downloading numpy-1.22.3-cp310-cp310-manylinux_2_17_x86_64.manylinux2014_x86_64.whl (16.8 MB)\n",
      "\u001b[2K     \u001b[38;2;114;156;31m━━━━━━━━━━━━━━━━━━━━━━━━━━━━━━━━━━━━━━━━\u001b[0m \u001b[32m16.8/16.8 MB\u001b[0m \u001b[31m2.9 MB/s\u001b[0m eta \u001b[36m0:00:00\u001b[0mm eta \u001b[36m0:00:01\u001b[0m[36m0:00:01\u001b[0m\n",
      "\u001b[?25hRequirement already satisfied: python-dateutil>=2.7 in /home/supreet/anaconda3/envs/cv/lib/python3.10/site-packages (from matplotlib) (2.8.2)\n",
      "Collecting cycler>=0.10\n",
      "  Using cached cycler-0.11.0-py3-none-any.whl (6.4 kB)\n",
      "Requirement already satisfied: pyparsing>=2.2.1 in /home/supreet/anaconda3/envs/cv/lib/python3.10/site-packages (from matplotlib) (3.0.8)\n",
      "Collecting pillow>=6.2.0\n",
      "  Downloading Pillow-9.1.0-cp310-cp310-manylinux_2_17_x86_64.manylinux2014_x86_64.whl (4.3 MB)\n",
      "\u001b[2K     \u001b[38;2;114;156;31m━━━━━━━━━━━━━━━━━━━━━━━━━━━━━━━━━━━━━━━━\u001b[0m \u001b[32m4.3/4.3 MB\u001b[0m \u001b[31m2.0 MB/s\u001b[0m eta \u001b[36m0:00:00\u001b[0mm eta \u001b[36m0:00:01\u001b[0m[36m0:00:01\u001b[0m\n",
      "\u001b[?25hRequirement already satisfied: packaging>=20.0 in /home/supreet/anaconda3/envs/cv/lib/python3.10/site-packages (from matplotlib) (21.3)\n",
      "Collecting fonttools>=4.22.0\n",
      "  Using cached fonttools-4.33.0-py3-none-any.whl (929 kB)\n",
      "Collecting kiwisolver>=1.0.1\n",
      "  Downloading kiwisolver-1.4.2-cp310-cp310-manylinux_2_12_x86_64.manylinux2010_x86_64.whl (1.6 MB)\n",
      "\u001b[2K     \u001b[38;2;114;156;31m━━━━━━━━━━━━━━━━━━━━━━━━━━━━━━━━━━━━━━━━\u001b[0m \u001b[32m1.6/1.6 MB\u001b[0m \u001b[31m4.1 MB/s\u001b[0m eta \u001b[36m0:00:00\u001b[0mm eta \u001b[36m0:00:01\u001b[0m0:01\u001b[0m:01\u001b[0m\n",
      "\u001b[?25hRequirement already satisfied: six>=1.5 in /home/supreet/anaconda3/envs/cv/lib/python3.10/site-packages (from python-dateutil>=2.7->matplotlib) (1.16.0)\n",
      "Installing collected packages: pillow, numpy, kiwisolver, fonttools, cycler, matplotlib\n",
      "Successfully installed cycler-0.11.0 fonttools-4.33.0 kiwisolver-1.4.2 matplotlib-3.5.1 numpy-1.22.3 pillow-9.1.0\n",
      "Collecting scipy\n",
      "  Downloading scipy-1.8.0-cp310-cp310-manylinux_2_17_x86_64.manylinux2014_x86_64.whl (42.3 MB)\n",
      "\u001b[2K     \u001b[38;2;114;156;31m━━━━━━━━━━━━━━━━━━━━━━━━━━━━━━━━━━━━━━━━\u001b[0m \u001b[32m42.3/42.3 MB\u001b[0m \u001b[31m2.6 MB/s\u001b[0m eta \u001b[36m0:00:00\u001b[0mm eta \u001b[36m0:00:01\u001b[0m[36m0:00:01\u001b[0m\n",
      "\u001b[?25hRequirement already satisfied: numpy<1.25.0,>=1.17.3 in /home/supreet/anaconda3/envs/cv/lib/python3.10/site-packages (from scipy) (1.22.3)\n",
      "Installing collected packages: scipy\n",
      "Successfully installed scipy-1.8.0\n",
      "Collecting imageio\n",
      "  Using cached imageio-2.17.0-py3-none-any.whl (3.4 MB)\n",
      "Requirement already satisfied: pillow>=8.3.2 in /home/supreet/anaconda3/envs/cv/lib/python3.10/site-packages (from imageio) (9.1.0)\n",
      "Requirement already satisfied: numpy in /home/supreet/anaconda3/envs/cv/lib/python3.10/site-packages (from imageio) (1.22.3)\n",
      "Installing collected packages: imageio\n",
      "Successfully installed imageio-2.17.0\n",
      "Collecting opencv-python\n",
      "  Using cached opencv_python-4.5.5.64-cp36-abi3-manylinux_2_17_x86_64.manylinux2014_x86_64.whl (60.5 MB)\n",
      "Requirement already satisfied: numpy>=1.14.5 in /home/supreet/anaconda3/envs/cv/lib/python3.10/site-packages (from opencv-python) (1.22.3)\n",
      "Installing collected packages: opencv-python\n",
      "Successfully installed opencv-python-4.5.5.64\n"
     ]
    }
   ],
   "source": [
    "!pip install matplotlib\n",
    "!pip install scipy\n",
    "!pip install imageio\n",
    "!pip install opencv-python\n"
   ]
  },
  {
   "cell_type": "markdown",
   "metadata": {
    "deletable": false,
    "editable": false,
    "nbgrader": {
     "cell_type": "markdown",
     "checksum": "9ea3b5c5872e1fbb5fb236decf0c9388",
     "grade": false,
     "grade_id": "cell-796243e42a593a0f",
     "locked": true,
     "schema_version": 3,
     "solution": false,
     "task": false
    }
   },
   "source": [
    "# Gaussian filtering\n",
    "In the following, you will implement a method which generates and applies a Gaussian filter for a given variance and number of samples."
   ]
  },
  {
   "cell_type": "code",
   "execution_count": 11,
   "metadata": {
    "deletable": false,
    "editable": false,
    "nbgrader": {
     "cell_type": "code",
     "checksum": "30b625b9c7ca43dd3c603d8914c57257",
     "grade": false,
     "grade_id": "cell-12c71e1393632034",
     "locked": true,
     "schema_version": 3,
     "solution": false,
     "task": false
    }
   },
   "outputs": [],
   "source": [
    "# Some convenience functions.\n",
    "\n",
    "def plot_multiple(images, titles, colormap='gray', max_columns=np.inf, share_axes=True):\n",
    "    \"\"\"Plot multiple images as subplots on a grid.\"\"\"\n",
    "    assert len(images) == len(titles)\n",
    "    n_images = len(images)\n",
    "    n_cols = min(max_columns, n_images)\n",
    "    n_rows = int(np.ceil(n_images / n_cols))\n",
    "    fig, axes = plt.subplots(\n",
    "        n_rows, n_cols, figsize=(n_cols * 4, n_rows * 4),\n",
    "        squeeze=False, sharex=share_axes, sharey=share_axes)\n",
    "\n",
    "    axes = axes.flat\n",
    "    # Hide subplots without content\n",
    "    for ax in axes[n_images:]:\n",
    "        ax.axis('off')\n",
    "        \n",
    "    if not isinstance(colormap, (list,tuple)):\n",
    "        colormaps = [colormap]*n_images\n",
    "    else:\n",
    "        colormaps = colormap\n",
    "\n",
    "    for ax, image, title, cmap in zip(axes, images, titles, colormaps):\n",
    "        ax.imshow(image, cmap=cmap)\n",
    "        ax.set_title(title)\n",
    "        \n",
    "    fig.tight_layout()"
   ]
  },
  {
   "cell_type": "markdown",
   "metadata": {
    "deletable": false,
    "editable": false,
    "nbgrader": {
     "cell_type": "markdown",
     "checksum": "f8d143e1422a2a93956512dd45158983",
     "grade": false,
     "grade_id": "cell-05c9f523b7ff124a",
     "locked": true,
     "schema_version": 3,
     "solution": false,
     "task": false
    }
   },
   "source": [
    "Start by writing a function ``gauss`` which creates a 1D Gaussian from a given vector of integer indices $\\mathtt{x = [-w, \\ldots, w]}$:\n",
    "$$\n",
    "    \\mathtt{G[i]} = \\frac{1}{\\sqrt{2\\pi}\\sigma}\\operatorname{exp}\\biggl(-\\frac{\\mathtt{x[i]}^2}{2\\sigma^2}\\biggr)\n",
    "$$\n",
    "where $\\sigma$ is the standard deviation.\n",
    "\n",
    "Tip: In NumPy the best practice is to use functions on entire arrays at once, instead of iterating over items one by one. This makes the code easier to understand and also faster (since the actual loop is implemented in C under the hood)."
   ]
  },
  {
   "cell_type": "code",
   "execution_count": 12,
   "metadata": {
    "deletable": false,
    "nbgrader": {
     "cell_type": "code",
     "checksum": "02cddcfb816df1387f57450539814048",
     "grade": true,
     "grade_id": "cell-cc8f6edd928cdffb",
     "locked": false,
     "points": 1,
     "schema_version": 3,
     "solution": true
    }
   },
   "outputs": [],
   "source": [
    "# POINTS: 1\n",
    "\n",
    "def gauss(x, sigma):\n",
    "    return np.exp(-np.power(x,2)/2*np.power(sigma,2))/(np.power(2*np.pi,0.5)*sigma)\n",
    "    raise NotImplementedError()"
   ]
  },
  {
   "cell_type": "code",
   "execution_count": 13,
   "metadata": {
    "deletable": false,
    "editable": false,
    "nbgrader": {
     "cell_type": "code",
     "checksum": "6543052613fb73787a813f1f6db38326",
     "grade": false,
     "grade_id": "cell-099a258c8d73e783",
     "locked": true,
     "schema_version": 3,
     "solution": false,
     "task": false
    },
    "scrolled": false
   },
   "outputs": [
    {
     "data": {
      "application/javascript": [
       "/* Put everything inside the global mpl namespace */\n",
       "/* global mpl */\n",
       "window.mpl = {};\n",
       "\n",
       "mpl.get_websocket_type = function () {\n",
       "    if (typeof WebSocket !== 'undefined') {\n",
       "        return WebSocket;\n",
       "    } else if (typeof MozWebSocket !== 'undefined') {\n",
       "        return MozWebSocket;\n",
       "    } else {\n",
       "        alert(\n",
       "            'Your browser does not have WebSocket support. ' +\n",
       "                'Please try Chrome, Safari or Firefox ≥ 6. ' +\n",
       "                'Firefox 4 and 5 are also supported but you ' +\n",
       "                'have to enable WebSockets in about:config.'\n",
       "        );\n",
       "    }\n",
       "};\n",
       "\n",
       "mpl.figure = function (figure_id, websocket, ondownload, parent_element) {\n",
       "    this.id = figure_id;\n",
       "\n",
       "    this.ws = websocket;\n",
       "\n",
       "    this.supports_binary = this.ws.binaryType !== undefined;\n",
       "\n",
       "    if (!this.supports_binary) {\n",
       "        var warnings = document.getElementById('mpl-warnings');\n",
       "        if (warnings) {\n",
       "            warnings.style.display = 'block';\n",
       "            warnings.textContent =\n",
       "                'This browser does not support binary websocket messages. ' +\n",
       "                'Performance may be slow.';\n",
       "        }\n",
       "    }\n",
       "\n",
       "    this.imageObj = new Image();\n",
       "\n",
       "    this.context = undefined;\n",
       "    this.message = undefined;\n",
       "    this.canvas = undefined;\n",
       "    this.rubberband_canvas = undefined;\n",
       "    this.rubberband_context = undefined;\n",
       "    this.format_dropdown = undefined;\n",
       "\n",
       "    this.image_mode = 'full';\n",
       "\n",
       "    this.root = document.createElement('div');\n",
       "    this.root.setAttribute('style', 'display: inline-block');\n",
       "    this._root_extra_style(this.root);\n",
       "\n",
       "    parent_element.appendChild(this.root);\n",
       "\n",
       "    this._init_header(this);\n",
       "    this._init_canvas(this);\n",
       "    this._init_toolbar(this);\n",
       "\n",
       "    var fig = this;\n",
       "\n",
       "    this.waiting = false;\n",
       "\n",
       "    this.ws.onopen = function () {\n",
       "        fig.send_message('supports_binary', { value: fig.supports_binary });\n",
       "        fig.send_message('send_image_mode', {});\n",
       "        if (fig.ratio !== 1) {\n",
       "            fig.send_message('set_device_pixel_ratio', {\n",
       "                device_pixel_ratio: fig.ratio,\n",
       "            });\n",
       "        }\n",
       "        fig.send_message('refresh', {});\n",
       "    };\n",
       "\n",
       "    this.imageObj.onload = function () {\n",
       "        if (fig.image_mode === 'full') {\n",
       "            // Full images could contain transparency (where diff images\n",
       "            // almost always do), so we need to clear the canvas so that\n",
       "            // there is no ghosting.\n",
       "            fig.context.clearRect(0, 0, fig.canvas.width, fig.canvas.height);\n",
       "        }\n",
       "        fig.context.drawImage(fig.imageObj, 0, 0);\n",
       "    };\n",
       "\n",
       "    this.imageObj.onunload = function () {\n",
       "        fig.ws.close();\n",
       "    };\n",
       "\n",
       "    this.ws.onmessage = this._make_on_message_function(this);\n",
       "\n",
       "    this.ondownload = ondownload;\n",
       "};\n",
       "\n",
       "mpl.figure.prototype._init_header = function () {\n",
       "    var titlebar = document.createElement('div');\n",
       "    titlebar.classList =\n",
       "        'ui-dialog-titlebar ui-widget-header ui-corner-all ui-helper-clearfix';\n",
       "    var titletext = document.createElement('div');\n",
       "    titletext.classList = 'ui-dialog-title';\n",
       "    titletext.setAttribute(\n",
       "        'style',\n",
       "        'width: 100%; text-align: center; padding: 3px;'\n",
       "    );\n",
       "    titlebar.appendChild(titletext);\n",
       "    this.root.appendChild(titlebar);\n",
       "    this.header = titletext;\n",
       "};\n",
       "\n",
       "mpl.figure.prototype._canvas_extra_style = function (_canvas_div) {};\n",
       "\n",
       "mpl.figure.prototype._root_extra_style = function (_canvas_div) {};\n",
       "\n",
       "mpl.figure.prototype._init_canvas = function () {\n",
       "    var fig = this;\n",
       "\n",
       "    var canvas_div = (this.canvas_div = document.createElement('div'));\n",
       "    canvas_div.setAttribute(\n",
       "        'style',\n",
       "        'border: 1px solid #ddd;' +\n",
       "            'box-sizing: content-box;' +\n",
       "            'clear: both;' +\n",
       "            'min-height: 1px;' +\n",
       "            'min-width: 1px;' +\n",
       "            'outline: 0;' +\n",
       "            'overflow: hidden;' +\n",
       "            'position: relative;' +\n",
       "            'resize: both;'\n",
       "    );\n",
       "\n",
       "    function on_keyboard_event_closure(name) {\n",
       "        return function (event) {\n",
       "            return fig.key_event(event, name);\n",
       "        };\n",
       "    }\n",
       "\n",
       "    canvas_div.addEventListener(\n",
       "        'keydown',\n",
       "        on_keyboard_event_closure('key_press')\n",
       "    );\n",
       "    canvas_div.addEventListener(\n",
       "        'keyup',\n",
       "        on_keyboard_event_closure('key_release')\n",
       "    );\n",
       "\n",
       "    this._canvas_extra_style(canvas_div);\n",
       "    this.root.appendChild(canvas_div);\n",
       "\n",
       "    var canvas = (this.canvas = document.createElement('canvas'));\n",
       "    canvas.classList.add('mpl-canvas');\n",
       "    canvas.setAttribute('style', 'box-sizing: content-box;');\n",
       "\n",
       "    this.context = canvas.getContext('2d');\n",
       "\n",
       "    var backingStore =\n",
       "        this.context.backingStorePixelRatio ||\n",
       "        this.context.webkitBackingStorePixelRatio ||\n",
       "        this.context.mozBackingStorePixelRatio ||\n",
       "        this.context.msBackingStorePixelRatio ||\n",
       "        this.context.oBackingStorePixelRatio ||\n",
       "        this.context.backingStorePixelRatio ||\n",
       "        1;\n",
       "\n",
       "    this.ratio = (window.devicePixelRatio || 1) / backingStore;\n",
       "\n",
       "    var rubberband_canvas = (this.rubberband_canvas = document.createElement(\n",
       "        'canvas'\n",
       "    ));\n",
       "    rubberband_canvas.setAttribute(\n",
       "        'style',\n",
       "        'box-sizing: content-box; position: absolute; left: 0; top: 0; z-index: 1;'\n",
       "    );\n",
       "\n",
       "    // Apply a ponyfill if ResizeObserver is not implemented by browser.\n",
       "    if (this.ResizeObserver === undefined) {\n",
       "        if (window.ResizeObserver !== undefined) {\n",
       "            this.ResizeObserver = window.ResizeObserver;\n",
       "        } else {\n",
       "            var obs = _JSXTOOLS_RESIZE_OBSERVER({});\n",
       "            this.ResizeObserver = obs.ResizeObserver;\n",
       "        }\n",
       "    }\n",
       "\n",
       "    this.resizeObserverInstance = new this.ResizeObserver(function (entries) {\n",
       "        var nentries = entries.length;\n",
       "        for (var i = 0; i < nentries; i++) {\n",
       "            var entry = entries[i];\n",
       "            var width, height;\n",
       "            if (entry.contentBoxSize) {\n",
       "                if (entry.contentBoxSize instanceof Array) {\n",
       "                    // Chrome 84 implements new version of spec.\n",
       "                    width = entry.contentBoxSize[0].inlineSize;\n",
       "                    height = entry.contentBoxSize[0].blockSize;\n",
       "                } else {\n",
       "                    // Firefox implements old version of spec.\n",
       "                    width = entry.contentBoxSize.inlineSize;\n",
       "                    height = entry.contentBoxSize.blockSize;\n",
       "                }\n",
       "            } else {\n",
       "                // Chrome <84 implements even older version of spec.\n",
       "                width = entry.contentRect.width;\n",
       "                height = entry.contentRect.height;\n",
       "            }\n",
       "\n",
       "            // Keep the size of the canvas and rubber band canvas in sync with\n",
       "            // the canvas container.\n",
       "            if (entry.devicePixelContentBoxSize) {\n",
       "                // Chrome 84 implements new version of spec.\n",
       "                canvas.setAttribute(\n",
       "                    'width',\n",
       "                    entry.devicePixelContentBoxSize[0].inlineSize\n",
       "                );\n",
       "                canvas.setAttribute(\n",
       "                    'height',\n",
       "                    entry.devicePixelContentBoxSize[0].blockSize\n",
       "                );\n",
       "            } else {\n",
       "                canvas.setAttribute('width', width * fig.ratio);\n",
       "                canvas.setAttribute('height', height * fig.ratio);\n",
       "            }\n",
       "            canvas.setAttribute(\n",
       "                'style',\n",
       "                'width: ' + width + 'px; height: ' + height + 'px;'\n",
       "            );\n",
       "\n",
       "            rubberband_canvas.setAttribute('width', width);\n",
       "            rubberband_canvas.setAttribute('height', height);\n",
       "\n",
       "            // And update the size in Python. We ignore the initial 0/0 size\n",
       "            // that occurs as the element is placed into the DOM, which should\n",
       "            // otherwise not happen due to the minimum size styling.\n",
       "            if (fig.ws.readyState == 1 && width != 0 && height != 0) {\n",
       "                fig.request_resize(width, height);\n",
       "            }\n",
       "        }\n",
       "    });\n",
       "    this.resizeObserverInstance.observe(canvas_div);\n",
       "\n",
       "    function on_mouse_event_closure(name) {\n",
       "        return function (event) {\n",
       "            return fig.mouse_event(event, name);\n",
       "        };\n",
       "    }\n",
       "\n",
       "    rubberband_canvas.addEventListener(\n",
       "        'mousedown',\n",
       "        on_mouse_event_closure('button_press')\n",
       "    );\n",
       "    rubberband_canvas.addEventListener(\n",
       "        'mouseup',\n",
       "        on_mouse_event_closure('button_release')\n",
       "    );\n",
       "    rubberband_canvas.addEventListener(\n",
       "        'dblclick',\n",
       "        on_mouse_event_closure('dblclick')\n",
       "    );\n",
       "    // Throttle sequential mouse events to 1 every 20ms.\n",
       "    rubberband_canvas.addEventListener(\n",
       "        'mousemove',\n",
       "        on_mouse_event_closure('motion_notify')\n",
       "    );\n",
       "\n",
       "    rubberband_canvas.addEventListener(\n",
       "        'mouseenter',\n",
       "        on_mouse_event_closure('figure_enter')\n",
       "    );\n",
       "    rubberband_canvas.addEventListener(\n",
       "        'mouseleave',\n",
       "        on_mouse_event_closure('figure_leave')\n",
       "    );\n",
       "\n",
       "    canvas_div.addEventListener('wheel', function (event) {\n",
       "        if (event.deltaY < 0) {\n",
       "            event.step = 1;\n",
       "        } else {\n",
       "            event.step = -1;\n",
       "        }\n",
       "        on_mouse_event_closure('scroll')(event);\n",
       "    });\n",
       "\n",
       "    canvas_div.appendChild(canvas);\n",
       "    canvas_div.appendChild(rubberband_canvas);\n",
       "\n",
       "    this.rubberband_context = rubberband_canvas.getContext('2d');\n",
       "    this.rubberband_context.strokeStyle = '#000000';\n",
       "\n",
       "    this._resize_canvas = function (width, height, forward) {\n",
       "        if (forward) {\n",
       "            canvas_div.style.width = width + 'px';\n",
       "            canvas_div.style.height = height + 'px';\n",
       "        }\n",
       "    };\n",
       "\n",
       "    // Disable right mouse context menu.\n",
       "    this.rubberband_canvas.addEventListener('contextmenu', function (_e) {\n",
       "        event.preventDefault();\n",
       "        return false;\n",
       "    });\n",
       "\n",
       "    function set_focus() {\n",
       "        canvas.focus();\n",
       "        canvas_div.focus();\n",
       "    }\n",
       "\n",
       "    window.setTimeout(set_focus, 100);\n",
       "};\n",
       "\n",
       "mpl.figure.prototype._init_toolbar = function () {\n",
       "    var fig = this;\n",
       "\n",
       "    var toolbar = document.createElement('div');\n",
       "    toolbar.classList = 'mpl-toolbar';\n",
       "    this.root.appendChild(toolbar);\n",
       "\n",
       "    function on_click_closure(name) {\n",
       "        return function (_event) {\n",
       "            return fig.toolbar_button_onclick(name);\n",
       "        };\n",
       "    }\n",
       "\n",
       "    function on_mouseover_closure(tooltip) {\n",
       "        return function (event) {\n",
       "            if (!event.currentTarget.disabled) {\n",
       "                return fig.toolbar_button_onmouseover(tooltip);\n",
       "            }\n",
       "        };\n",
       "    }\n",
       "\n",
       "    fig.buttons = {};\n",
       "    var buttonGroup = document.createElement('div');\n",
       "    buttonGroup.classList = 'mpl-button-group';\n",
       "    for (var toolbar_ind in mpl.toolbar_items) {\n",
       "        var name = mpl.toolbar_items[toolbar_ind][0];\n",
       "        var tooltip = mpl.toolbar_items[toolbar_ind][1];\n",
       "        var image = mpl.toolbar_items[toolbar_ind][2];\n",
       "        var method_name = mpl.toolbar_items[toolbar_ind][3];\n",
       "\n",
       "        if (!name) {\n",
       "            /* Instead of a spacer, we start a new button group. */\n",
       "            if (buttonGroup.hasChildNodes()) {\n",
       "                toolbar.appendChild(buttonGroup);\n",
       "            }\n",
       "            buttonGroup = document.createElement('div');\n",
       "            buttonGroup.classList = 'mpl-button-group';\n",
       "            continue;\n",
       "        }\n",
       "\n",
       "        var button = (fig.buttons[name] = document.createElement('button'));\n",
       "        button.classList = 'mpl-widget';\n",
       "        button.setAttribute('role', 'button');\n",
       "        button.setAttribute('aria-disabled', 'false');\n",
       "        button.addEventListener('click', on_click_closure(method_name));\n",
       "        button.addEventListener('mouseover', on_mouseover_closure(tooltip));\n",
       "\n",
       "        var icon_img = document.createElement('img');\n",
       "        icon_img.src = '_images/' + image + '.png';\n",
       "        icon_img.srcset = '_images/' + image + '_large.png 2x';\n",
       "        icon_img.alt = tooltip;\n",
       "        button.appendChild(icon_img);\n",
       "\n",
       "        buttonGroup.appendChild(button);\n",
       "    }\n",
       "\n",
       "    if (buttonGroup.hasChildNodes()) {\n",
       "        toolbar.appendChild(buttonGroup);\n",
       "    }\n",
       "\n",
       "    var fmt_picker = document.createElement('select');\n",
       "    fmt_picker.classList = 'mpl-widget';\n",
       "    toolbar.appendChild(fmt_picker);\n",
       "    this.format_dropdown = fmt_picker;\n",
       "\n",
       "    for (var ind in mpl.extensions) {\n",
       "        var fmt = mpl.extensions[ind];\n",
       "        var option = document.createElement('option');\n",
       "        option.selected = fmt === mpl.default_extension;\n",
       "        option.innerHTML = fmt;\n",
       "        fmt_picker.appendChild(option);\n",
       "    }\n",
       "\n",
       "    var status_bar = document.createElement('span');\n",
       "    status_bar.classList = 'mpl-message';\n",
       "    toolbar.appendChild(status_bar);\n",
       "    this.message = status_bar;\n",
       "};\n",
       "\n",
       "mpl.figure.prototype.request_resize = function (x_pixels, y_pixels) {\n",
       "    // Request matplotlib to resize the figure. Matplotlib will then trigger a resize in the client,\n",
       "    // which will in turn request a refresh of the image.\n",
       "    this.send_message('resize', { width: x_pixels, height: y_pixels });\n",
       "};\n",
       "\n",
       "mpl.figure.prototype.send_message = function (type, properties) {\n",
       "    properties['type'] = type;\n",
       "    properties['figure_id'] = this.id;\n",
       "    this.ws.send(JSON.stringify(properties));\n",
       "};\n",
       "\n",
       "mpl.figure.prototype.send_draw_message = function () {\n",
       "    if (!this.waiting) {\n",
       "        this.waiting = true;\n",
       "        this.ws.send(JSON.stringify({ type: 'draw', figure_id: this.id }));\n",
       "    }\n",
       "};\n",
       "\n",
       "mpl.figure.prototype.handle_save = function (fig, _msg) {\n",
       "    var format_dropdown = fig.format_dropdown;\n",
       "    var format = format_dropdown.options[format_dropdown.selectedIndex].value;\n",
       "    fig.ondownload(fig, format);\n",
       "};\n",
       "\n",
       "mpl.figure.prototype.handle_resize = function (fig, msg) {\n",
       "    var size = msg['size'];\n",
       "    if (size[0] !== fig.canvas.width || size[1] !== fig.canvas.height) {\n",
       "        fig._resize_canvas(size[0], size[1], msg['forward']);\n",
       "        fig.send_message('refresh', {});\n",
       "    }\n",
       "};\n",
       "\n",
       "mpl.figure.prototype.handle_rubberband = function (fig, msg) {\n",
       "    var x0 = msg['x0'] / fig.ratio;\n",
       "    var y0 = (fig.canvas.height - msg['y0']) / fig.ratio;\n",
       "    var x1 = msg['x1'] / fig.ratio;\n",
       "    var y1 = (fig.canvas.height - msg['y1']) / fig.ratio;\n",
       "    x0 = Math.floor(x0) + 0.5;\n",
       "    y0 = Math.floor(y0) + 0.5;\n",
       "    x1 = Math.floor(x1) + 0.5;\n",
       "    y1 = Math.floor(y1) + 0.5;\n",
       "    var min_x = Math.min(x0, x1);\n",
       "    var min_y = Math.min(y0, y1);\n",
       "    var width = Math.abs(x1 - x0);\n",
       "    var height = Math.abs(y1 - y0);\n",
       "\n",
       "    fig.rubberband_context.clearRect(\n",
       "        0,\n",
       "        0,\n",
       "        fig.canvas.width / fig.ratio,\n",
       "        fig.canvas.height / fig.ratio\n",
       "    );\n",
       "\n",
       "    fig.rubberband_context.strokeRect(min_x, min_y, width, height);\n",
       "};\n",
       "\n",
       "mpl.figure.prototype.handle_figure_label = function (fig, msg) {\n",
       "    // Updates the figure title.\n",
       "    fig.header.textContent = msg['label'];\n",
       "};\n",
       "\n",
       "mpl.figure.prototype.handle_cursor = function (fig, msg) {\n",
       "    fig.rubberband_canvas.style.cursor = msg['cursor'];\n",
       "};\n",
       "\n",
       "mpl.figure.prototype.handle_message = function (fig, msg) {\n",
       "    fig.message.textContent = msg['message'];\n",
       "};\n",
       "\n",
       "mpl.figure.prototype.handle_draw = function (fig, _msg) {\n",
       "    // Request the server to send over a new figure.\n",
       "    fig.send_draw_message();\n",
       "};\n",
       "\n",
       "mpl.figure.prototype.handle_image_mode = function (fig, msg) {\n",
       "    fig.image_mode = msg['mode'];\n",
       "};\n",
       "\n",
       "mpl.figure.prototype.handle_history_buttons = function (fig, msg) {\n",
       "    for (var key in msg) {\n",
       "        if (!(key in fig.buttons)) {\n",
       "            continue;\n",
       "        }\n",
       "        fig.buttons[key].disabled = !msg[key];\n",
       "        fig.buttons[key].setAttribute('aria-disabled', !msg[key]);\n",
       "    }\n",
       "};\n",
       "\n",
       "mpl.figure.prototype.handle_navigate_mode = function (fig, msg) {\n",
       "    if (msg['mode'] === 'PAN') {\n",
       "        fig.buttons['Pan'].classList.add('active');\n",
       "        fig.buttons['Zoom'].classList.remove('active');\n",
       "    } else if (msg['mode'] === 'ZOOM') {\n",
       "        fig.buttons['Pan'].classList.remove('active');\n",
       "        fig.buttons['Zoom'].classList.add('active');\n",
       "    } else {\n",
       "        fig.buttons['Pan'].classList.remove('active');\n",
       "        fig.buttons['Zoom'].classList.remove('active');\n",
       "    }\n",
       "};\n",
       "\n",
       "mpl.figure.prototype.updated_canvas_event = function () {\n",
       "    // Called whenever the canvas gets updated.\n",
       "    this.send_message('ack', {});\n",
       "};\n",
       "\n",
       "// A function to construct a web socket function for onmessage handling.\n",
       "// Called in the figure constructor.\n",
       "mpl.figure.prototype._make_on_message_function = function (fig) {\n",
       "    return function socket_on_message(evt) {\n",
       "        if (evt.data instanceof Blob) {\n",
       "            var img = evt.data;\n",
       "            if (img.type !== 'image/png') {\n",
       "                /* FIXME: We get \"Resource interpreted as Image but\n",
       "                 * transferred with MIME type text/plain:\" errors on\n",
       "                 * Chrome.  But how to set the MIME type?  It doesn't seem\n",
       "                 * to be part of the websocket stream */\n",
       "                img.type = 'image/png';\n",
       "            }\n",
       "\n",
       "            /* Free the memory for the previous frames */\n",
       "            if (fig.imageObj.src) {\n",
       "                (window.URL || window.webkitURL).revokeObjectURL(\n",
       "                    fig.imageObj.src\n",
       "                );\n",
       "            }\n",
       "\n",
       "            fig.imageObj.src = (window.URL || window.webkitURL).createObjectURL(\n",
       "                img\n",
       "            );\n",
       "            fig.updated_canvas_event();\n",
       "            fig.waiting = false;\n",
       "            return;\n",
       "        } else if (\n",
       "            typeof evt.data === 'string' &&\n",
       "            evt.data.slice(0, 21) === 'data:image/png;base64'\n",
       "        ) {\n",
       "            fig.imageObj.src = evt.data;\n",
       "            fig.updated_canvas_event();\n",
       "            fig.waiting = false;\n",
       "            return;\n",
       "        }\n",
       "\n",
       "        var msg = JSON.parse(evt.data);\n",
       "        var msg_type = msg['type'];\n",
       "\n",
       "        // Call the  \"handle_{type}\" callback, which takes\n",
       "        // the figure and JSON message as its only arguments.\n",
       "        try {\n",
       "            var callback = fig['handle_' + msg_type];\n",
       "        } catch (e) {\n",
       "            console.log(\n",
       "                \"No handler for the '\" + msg_type + \"' message type: \",\n",
       "                msg\n",
       "            );\n",
       "            return;\n",
       "        }\n",
       "\n",
       "        if (callback) {\n",
       "            try {\n",
       "                // console.log(\"Handling '\" + msg_type + \"' message: \", msg);\n",
       "                callback(fig, msg);\n",
       "            } catch (e) {\n",
       "                console.log(\n",
       "                    \"Exception inside the 'handler_\" + msg_type + \"' callback:\",\n",
       "                    e,\n",
       "                    e.stack,\n",
       "                    msg\n",
       "                );\n",
       "            }\n",
       "        }\n",
       "    };\n",
       "};\n",
       "\n",
       "// from https://stackoverflow.com/questions/1114465/getting-mouse-location-in-canvas\n",
       "mpl.findpos = function (e) {\n",
       "    //this section is from http://www.quirksmode.org/js/events_properties.html\n",
       "    var targ;\n",
       "    if (!e) {\n",
       "        e = window.event;\n",
       "    }\n",
       "    if (e.target) {\n",
       "        targ = e.target;\n",
       "    } else if (e.srcElement) {\n",
       "        targ = e.srcElement;\n",
       "    }\n",
       "    if (targ.nodeType === 3) {\n",
       "        // defeat Safari bug\n",
       "        targ = targ.parentNode;\n",
       "    }\n",
       "\n",
       "    // pageX,Y are the mouse positions relative to the document\n",
       "    var boundingRect = targ.getBoundingClientRect();\n",
       "    var x = e.pageX - (boundingRect.left + document.body.scrollLeft);\n",
       "    var y = e.pageY - (boundingRect.top + document.body.scrollTop);\n",
       "\n",
       "    return { x: x, y: y };\n",
       "};\n",
       "\n",
       "/*\n",
       " * return a copy of an object with only non-object keys\n",
       " * we need this to avoid circular references\n",
       " * https://stackoverflow.com/a/24161582/3208463\n",
       " */\n",
       "function simpleKeys(original) {\n",
       "    return Object.keys(original).reduce(function (obj, key) {\n",
       "        if (typeof original[key] !== 'object') {\n",
       "            obj[key] = original[key];\n",
       "        }\n",
       "        return obj;\n",
       "    }, {});\n",
       "}\n",
       "\n",
       "mpl.figure.prototype.mouse_event = function (event, name) {\n",
       "    var canvas_pos = mpl.findpos(event);\n",
       "\n",
       "    if (name === 'button_press') {\n",
       "        this.canvas.focus();\n",
       "        this.canvas_div.focus();\n",
       "    }\n",
       "\n",
       "    var x = canvas_pos.x * this.ratio;\n",
       "    var y = canvas_pos.y * this.ratio;\n",
       "\n",
       "    this.send_message(name, {\n",
       "        x: x,\n",
       "        y: y,\n",
       "        button: event.button,\n",
       "        step: event.step,\n",
       "        guiEvent: simpleKeys(event),\n",
       "    });\n",
       "\n",
       "    /* This prevents the web browser from automatically changing to\n",
       "     * the text insertion cursor when the button is pressed.  We want\n",
       "     * to control all of the cursor setting manually through the\n",
       "     * 'cursor' event from matplotlib */\n",
       "    event.preventDefault();\n",
       "    return false;\n",
       "};\n",
       "\n",
       "mpl.figure.prototype._key_event_extra = function (_event, _name) {\n",
       "    // Handle any extra behaviour associated with a key event\n",
       "};\n",
       "\n",
       "mpl.figure.prototype.key_event = function (event, name) {\n",
       "    // Prevent repeat events\n",
       "    if (name === 'key_press') {\n",
       "        if (event.key === this._key) {\n",
       "            return;\n",
       "        } else {\n",
       "            this._key = event.key;\n",
       "        }\n",
       "    }\n",
       "    if (name === 'key_release') {\n",
       "        this._key = null;\n",
       "    }\n",
       "\n",
       "    var value = '';\n",
       "    if (event.ctrlKey && event.key !== 'Control') {\n",
       "        value += 'ctrl+';\n",
       "    }\n",
       "    else if (event.altKey && event.key !== 'Alt') {\n",
       "        value += 'alt+';\n",
       "    }\n",
       "    else if (event.shiftKey && event.key !== 'Shift') {\n",
       "        value += 'shift+';\n",
       "    }\n",
       "\n",
       "    value += 'k' + event.key;\n",
       "\n",
       "    this._key_event_extra(event, name);\n",
       "\n",
       "    this.send_message(name, { key: value, guiEvent: simpleKeys(event) });\n",
       "    return false;\n",
       "};\n",
       "\n",
       "mpl.figure.prototype.toolbar_button_onclick = function (name) {\n",
       "    if (name === 'download') {\n",
       "        this.handle_save(this, null);\n",
       "    } else {\n",
       "        this.send_message('toolbar_button', { name: name });\n",
       "    }\n",
       "};\n",
       "\n",
       "mpl.figure.prototype.toolbar_button_onmouseover = function (tooltip) {\n",
       "    this.message.textContent = tooltip;\n",
       "};\n",
       "\n",
       "///////////////// REMAINING CONTENT GENERATED BY embed_js.py /////////////////\n",
       "// prettier-ignore\n",
       "var _JSXTOOLS_RESIZE_OBSERVER=function(A){var t,i=new WeakMap,n=new WeakMap,a=new WeakMap,r=new WeakMap,o=new Set;function s(e){if(!(this instanceof s))throw new TypeError(\"Constructor requires 'new' operator\");i.set(this,e)}function h(){throw new TypeError(\"Function is not a constructor\")}function c(e,t,i,n){e=0 in arguments?Number(arguments[0]):0,t=1 in arguments?Number(arguments[1]):0,i=2 in arguments?Number(arguments[2]):0,n=3 in arguments?Number(arguments[3]):0,this.right=(this.x=this.left=e)+(this.width=i),this.bottom=(this.y=this.top=t)+(this.height=n),Object.freeze(this)}function d(){t=requestAnimationFrame(d);var s=new WeakMap,p=new Set;o.forEach((function(t){r.get(t).forEach((function(i){var r=t instanceof window.SVGElement,o=a.get(t),d=r?0:parseFloat(o.paddingTop),f=r?0:parseFloat(o.paddingRight),l=r?0:parseFloat(o.paddingBottom),u=r?0:parseFloat(o.paddingLeft),g=r?0:parseFloat(o.borderTopWidth),m=r?0:parseFloat(o.borderRightWidth),w=r?0:parseFloat(o.borderBottomWidth),b=u+f,F=d+l,v=(r?0:parseFloat(o.borderLeftWidth))+m,W=g+w,y=r?0:t.offsetHeight-W-t.clientHeight,E=r?0:t.offsetWidth-v-t.clientWidth,R=b+v,z=F+W,M=r?t.width:parseFloat(o.width)-R-E,O=r?t.height:parseFloat(o.height)-z-y;if(n.has(t)){var k=n.get(t);if(k[0]===M&&k[1]===O)return}n.set(t,[M,O]);var S=Object.create(h.prototype);S.target=t,S.contentRect=new c(u,d,M,O),s.has(i)||(s.set(i,[]),p.add(i)),s.get(i).push(S)}))})),p.forEach((function(e){i.get(e).call(e,s.get(e),e)}))}return s.prototype.observe=function(i){if(i instanceof window.Element){r.has(i)||(r.set(i,new Set),o.add(i),a.set(i,window.getComputedStyle(i)));var n=r.get(i);n.has(this)||n.add(this),cancelAnimationFrame(t),t=requestAnimationFrame(d)}},s.prototype.unobserve=function(i){if(i instanceof window.Element&&r.has(i)){var n=r.get(i);n.has(this)&&(n.delete(this),n.size||(r.delete(i),o.delete(i))),n.size||r.delete(i),o.size||cancelAnimationFrame(t)}},A.DOMRectReadOnly=c,A.ResizeObserver=s,A.ResizeObserverEntry=h,A}; // eslint-disable-line\n",
       "mpl.toolbar_items = [[\"Home\", \"Reset original view\", \"fa fa-home icon-home\", \"home\"], [\"Back\", \"Back to previous view\", \"fa fa-arrow-left icon-arrow-left\", \"back\"], [\"Forward\", \"Forward to next view\", \"fa fa-arrow-right icon-arrow-right\", \"forward\"], [\"\", \"\", \"\", \"\"], [\"Pan\", \"Left button pans, Right button zooms\\nx/y fixes axis, CTRL fixes aspect\", \"fa fa-arrows icon-move\", \"pan\"], [\"Zoom\", \"Zoom to rectangle\\nx/y fixes axis\", \"fa fa-square-o icon-check-empty\", \"zoom\"], [\"\", \"\", \"\", \"\"], [\"Download\", \"Download plot\", \"fa fa-floppy-o icon-save\", \"download\"]];\n",
       "\n",
       "mpl.extensions = [\"eps\", \"jpeg\", \"pgf\", \"pdf\", \"png\", \"ps\", \"raw\", \"svg\", \"tif\"];\n",
       "\n",
       "mpl.default_extension = \"png\";/* global mpl */\n",
       "\n",
       "var comm_websocket_adapter = function (comm) {\n",
       "    // Create a \"websocket\"-like object which calls the given IPython comm\n",
       "    // object with the appropriate methods. Currently this is a non binary\n",
       "    // socket, so there is still some room for performance tuning.\n",
       "    var ws = {};\n",
       "\n",
       "    ws.binaryType = comm.kernel.ws.binaryType;\n",
       "    ws.readyState = comm.kernel.ws.readyState;\n",
       "    function updateReadyState(_event) {\n",
       "        if (comm.kernel.ws) {\n",
       "            ws.readyState = comm.kernel.ws.readyState;\n",
       "        } else {\n",
       "            ws.readyState = 3; // Closed state.\n",
       "        }\n",
       "    }\n",
       "    comm.kernel.ws.addEventListener('open', updateReadyState);\n",
       "    comm.kernel.ws.addEventListener('close', updateReadyState);\n",
       "    comm.kernel.ws.addEventListener('error', updateReadyState);\n",
       "\n",
       "    ws.close = function () {\n",
       "        comm.close();\n",
       "    };\n",
       "    ws.send = function (m) {\n",
       "        //console.log('sending', m);\n",
       "        comm.send(m);\n",
       "    };\n",
       "    // Register the callback with on_msg.\n",
       "    comm.on_msg(function (msg) {\n",
       "        //console.log('receiving', msg['content']['data'], msg);\n",
       "        var data = msg['content']['data'];\n",
       "        if (data['blob'] !== undefined) {\n",
       "            data = {\n",
       "                data: new Blob(msg['buffers'], { type: data['blob'] }),\n",
       "            };\n",
       "        }\n",
       "        // Pass the mpl event to the overridden (by mpl) onmessage function.\n",
       "        ws.onmessage(data);\n",
       "    });\n",
       "    return ws;\n",
       "};\n",
       "\n",
       "mpl.mpl_figure_comm = function (comm, msg) {\n",
       "    // This is the function which gets called when the mpl process\n",
       "    // starts-up an IPython Comm through the \"matplotlib\" channel.\n",
       "\n",
       "    var id = msg.content.data.id;\n",
       "    // Get hold of the div created by the display call when the Comm\n",
       "    // socket was opened in Python.\n",
       "    var element = document.getElementById(id);\n",
       "    var ws_proxy = comm_websocket_adapter(comm);\n",
       "\n",
       "    function ondownload(figure, _format) {\n",
       "        window.open(figure.canvas.toDataURL());\n",
       "    }\n",
       "\n",
       "    var fig = new mpl.figure(id, ws_proxy, ondownload, element);\n",
       "\n",
       "    // Call onopen now - mpl needs it, as it is assuming we've passed it a real\n",
       "    // web socket which is closed, not our websocket->open comm proxy.\n",
       "    ws_proxy.onopen();\n",
       "\n",
       "    fig.parent_element = element;\n",
       "    fig.cell_info = mpl.find_output_cell(\"<div id='\" + id + \"'></div>\");\n",
       "    if (!fig.cell_info) {\n",
       "        console.error('Failed to find cell for figure', id, fig);\n",
       "        return;\n",
       "    }\n",
       "    fig.cell_info[0].output_area.element.on(\n",
       "        'cleared',\n",
       "        { fig: fig },\n",
       "        fig._remove_fig_handler\n",
       "    );\n",
       "};\n",
       "\n",
       "mpl.figure.prototype.handle_close = function (fig, msg) {\n",
       "    var width = fig.canvas.width / fig.ratio;\n",
       "    fig.cell_info[0].output_area.element.off(\n",
       "        'cleared',\n",
       "        fig._remove_fig_handler\n",
       "    );\n",
       "    fig.resizeObserverInstance.unobserve(fig.canvas_div);\n",
       "\n",
       "    // Update the output cell to use the data from the current canvas.\n",
       "    fig.push_to_output();\n",
       "    var dataURL = fig.canvas.toDataURL();\n",
       "    // Re-enable the keyboard manager in IPython - without this line, in FF,\n",
       "    // the notebook keyboard shortcuts fail.\n",
       "    IPython.keyboard_manager.enable();\n",
       "    fig.parent_element.innerHTML =\n",
       "        '<img src=\"' + dataURL + '\" width=\"' + width + '\">';\n",
       "    fig.close_ws(fig, msg);\n",
       "};\n",
       "\n",
       "mpl.figure.prototype.close_ws = function (fig, msg) {\n",
       "    fig.send_message('closing', msg);\n",
       "    // fig.ws.close()\n",
       "};\n",
       "\n",
       "mpl.figure.prototype.push_to_output = function (_remove_interactive) {\n",
       "    // Turn the data on the canvas into data in the output cell.\n",
       "    var width = this.canvas.width / this.ratio;\n",
       "    var dataURL = this.canvas.toDataURL();\n",
       "    this.cell_info[1]['text/html'] =\n",
       "        '<img src=\"' + dataURL + '\" width=\"' + width + '\">';\n",
       "};\n",
       "\n",
       "mpl.figure.prototype.updated_canvas_event = function () {\n",
       "    // Tell IPython that the notebook contents must change.\n",
       "    IPython.notebook.set_dirty(true);\n",
       "    this.send_message('ack', {});\n",
       "    var fig = this;\n",
       "    // Wait a second, then push the new image to the DOM so\n",
       "    // that it is saved nicely (might be nice to debounce this).\n",
       "    setTimeout(function () {\n",
       "        fig.push_to_output();\n",
       "    }, 1000);\n",
       "};\n",
       "\n",
       "mpl.figure.prototype._init_toolbar = function () {\n",
       "    var fig = this;\n",
       "\n",
       "    var toolbar = document.createElement('div');\n",
       "    toolbar.classList = 'btn-toolbar';\n",
       "    this.root.appendChild(toolbar);\n",
       "\n",
       "    function on_click_closure(name) {\n",
       "        return function (_event) {\n",
       "            return fig.toolbar_button_onclick(name);\n",
       "        };\n",
       "    }\n",
       "\n",
       "    function on_mouseover_closure(tooltip) {\n",
       "        return function (event) {\n",
       "            if (!event.currentTarget.disabled) {\n",
       "                return fig.toolbar_button_onmouseover(tooltip);\n",
       "            }\n",
       "        };\n",
       "    }\n",
       "\n",
       "    fig.buttons = {};\n",
       "    var buttonGroup = document.createElement('div');\n",
       "    buttonGroup.classList = 'btn-group';\n",
       "    var button;\n",
       "    for (var toolbar_ind in mpl.toolbar_items) {\n",
       "        var name = mpl.toolbar_items[toolbar_ind][0];\n",
       "        var tooltip = mpl.toolbar_items[toolbar_ind][1];\n",
       "        var image = mpl.toolbar_items[toolbar_ind][2];\n",
       "        var method_name = mpl.toolbar_items[toolbar_ind][3];\n",
       "\n",
       "        if (!name) {\n",
       "            /* Instead of a spacer, we start a new button group. */\n",
       "            if (buttonGroup.hasChildNodes()) {\n",
       "                toolbar.appendChild(buttonGroup);\n",
       "            }\n",
       "            buttonGroup = document.createElement('div');\n",
       "            buttonGroup.classList = 'btn-group';\n",
       "            continue;\n",
       "        }\n",
       "\n",
       "        button = fig.buttons[name] = document.createElement('button');\n",
       "        button.classList = 'btn btn-default';\n",
       "        button.href = '#';\n",
       "        button.title = name;\n",
       "        button.innerHTML = '<i class=\"fa ' + image + ' fa-lg\"></i>';\n",
       "        button.addEventListener('click', on_click_closure(method_name));\n",
       "        button.addEventListener('mouseover', on_mouseover_closure(tooltip));\n",
       "        buttonGroup.appendChild(button);\n",
       "    }\n",
       "\n",
       "    if (buttonGroup.hasChildNodes()) {\n",
       "        toolbar.appendChild(buttonGroup);\n",
       "    }\n",
       "\n",
       "    // Add the status bar.\n",
       "    var status_bar = document.createElement('span');\n",
       "    status_bar.classList = 'mpl-message pull-right';\n",
       "    toolbar.appendChild(status_bar);\n",
       "    this.message = status_bar;\n",
       "\n",
       "    // Add the close button to the window.\n",
       "    var buttongrp = document.createElement('div');\n",
       "    buttongrp.classList = 'btn-group inline pull-right';\n",
       "    button = document.createElement('button');\n",
       "    button.classList = 'btn btn-mini btn-primary';\n",
       "    button.href = '#';\n",
       "    button.title = 'Stop Interaction';\n",
       "    button.innerHTML = '<i class=\"fa fa-power-off icon-remove icon-large\"></i>';\n",
       "    button.addEventListener('click', function (_evt) {\n",
       "        fig.handle_close(fig, {});\n",
       "    });\n",
       "    button.addEventListener(\n",
       "        'mouseover',\n",
       "        on_mouseover_closure('Stop Interaction')\n",
       "    );\n",
       "    buttongrp.appendChild(button);\n",
       "    var titlebar = this.root.querySelector('.ui-dialog-titlebar');\n",
       "    titlebar.insertBefore(buttongrp, titlebar.firstChild);\n",
       "};\n",
       "\n",
       "mpl.figure.prototype._remove_fig_handler = function (event) {\n",
       "    var fig = event.data.fig;\n",
       "    if (event.target !== this) {\n",
       "        // Ignore bubbled events from children.\n",
       "        return;\n",
       "    }\n",
       "    fig.close_ws(fig, {});\n",
       "};\n",
       "\n",
       "mpl.figure.prototype._root_extra_style = function (el) {\n",
       "    el.style.boxSizing = 'content-box'; // override notebook setting of border-box.\n",
       "};\n",
       "\n",
       "mpl.figure.prototype._canvas_extra_style = function (el) {\n",
       "    // this is important to make the div 'focusable\n",
       "    el.setAttribute('tabindex', 0);\n",
       "    // reach out to IPython and tell the keyboard manager to turn it's self\n",
       "    // off when our div gets focus\n",
       "\n",
       "    // location in version 3\n",
       "    if (IPython.notebook.keyboard_manager) {\n",
       "        IPython.notebook.keyboard_manager.register_events(el);\n",
       "    } else {\n",
       "        // location in version 2\n",
       "        IPython.keyboard_manager.register_events(el);\n",
       "    }\n",
       "};\n",
       "\n",
       "mpl.figure.prototype._key_event_extra = function (event, _name) {\n",
       "    // Check for shift+enter\n",
       "    if (event.shiftKey && event.which === 13) {\n",
       "        this.canvas_div.blur();\n",
       "        // select the cell after this one\n",
       "        var index = IPython.notebook.find_cell_index(this.cell_info[0]);\n",
       "        IPython.notebook.select(index + 1);\n",
       "    }\n",
       "};\n",
       "\n",
       "mpl.figure.prototype.handle_save = function (fig, _msg) {\n",
       "    fig.ondownload(fig, null);\n",
       "};\n",
       "\n",
       "mpl.find_output_cell = function (html_output) {\n",
       "    // Return the cell and output element which can be found *uniquely* in the notebook.\n",
       "    // Note - this is a bit hacky, but it is done because the \"notebook_saving.Notebook\"\n",
       "    // IPython event is triggered only after the cells have been serialised, which for\n",
       "    // our purposes (turning an active figure into a static one), is too late.\n",
       "    var cells = IPython.notebook.get_cells();\n",
       "    var ncells = cells.length;\n",
       "    for (var i = 0; i < ncells; i++) {\n",
       "        var cell = cells[i];\n",
       "        if (cell.cell_type === 'code') {\n",
       "            for (var j = 0; j < cell.output_area.outputs.length; j++) {\n",
       "                var data = cell.output_area.outputs[j];\n",
       "                if (data.data) {\n",
       "                    // IPython >= 3 moved mimebundle to data attribute of output\n",
       "                    data = data.data;\n",
       "                }\n",
       "                if (data['text/html'] === html_output) {\n",
       "                    return [cell, data, j];\n",
       "                }\n",
       "            }\n",
       "        }\n",
       "    }\n",
       "};\n",
       "\n",
       "// Register the function which deals with the matplotlib target/channel.\n",
       "// The kernel may be null if the page has been refreshed.\n",
       "if (IPython.notebook.kernel !== null) {\n",
       "    IPython.notebook.kernel.comm_manager.register_target(\n",
       "        'matplotlib',\n",
       "        mpl.mpl_figure_comm\n",
       "    );\n",
       "}\n"
      ],
      "text/plain": [
       "<IPython.core.display.Javascript object>"
      ]
     },
     "metadata": {},
     "output_type": "display_data"
    },
    {
     "data": {
      "text/html": [
       "<img src=\"data:image/png;base64,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\" width=\"640\">"
      ],
      "text/plain": [
       "<IPython.core.display.HTML object>"
      ]
     },
     "metadata": {},
     "output_type": "display_data"
    },
    {
     "data": {
      "text/plain": [
       "[<matplotlib.lines.Line2D at 0x7f581c497dc0>]"
      ]
     },
     "metadata": {},
     "output_type": "display_data"
    },
    {
     "name": "stdout",
     "output_type": "stream",
     "text": [
      "Gauss of 5 is 3.84729931335321e-23\n"
     ]
    }
   ],
   "source": [
    "from IPython.display import display, HTML\n",
    "x = np.linspace(-5, 5, 100)\n",
    "y = gauss(x, sigma=2)\n",
    "fig, ax = plt.subplots()\n",
    "ax.plot(x, y)\n",
    "display(ax.plot(x, y))\n",
    "fig.tight_layout()\n",
    "\n",
    "print(\"Gauss of 5 is\", gauss(5, sigma=2))"
   ]
  },
  {
   "cell_type": "markdown",
   "metadata": {
    "deletable": false,
    "editable": false,
    "nbgrader": {
     "cell_type": "markdown",
     "checksum": "3ea84b7ef9144b047948971152aadeca",
     "grade": false,
     "grade_id": "cell-b2984d372bb5182a",
     "locked": true,
     "schema_version": 3,
     "solution": false,
     "task": false
    }
   },
   "source": [
    "Use the above function to implement a function `gaussian_filter(image, sigma, padding)`, which first generates a Gaussian filter and then applies it to the `image`.\n",
    "The size of the filter should be $2 \\cdot \\lceil 3 \\sigma \\rceil + 1$.\n",
    "Remember that the Gaussian is separable, *i.e.* that an equivalent 2D result can be obtained through a sequence of two 1D filtering operations.\n",
    "Do not use any existing implementation for convolution in this part (e.g. `scipy.ndimage.convolve`).\n",
    "However, you are allowed to use these implementations in the following questions."
   ]
  },
  {
   "cell_type": "code",
   "execution_count": null,
   "metadata": {
    "deletable": false,
    "nbgrader": {
     "cell_type": "code",
     "checksum": "c419315cfc180ffe1ff02cdab7aa2bca",
     "grade": true,
     "grade_id": "cell-add6d96484bc6c7e",
     "locked": false,
     "points": 5,
     "schema_version": 3,
     "solution": true,
     "task": false
    }
   },
   "outputs": [],
   "source": [
    "# POINTS: 5\n",
    "\n",
    "def gaussian_filter(image, sigma, padding=True):\n",
    "    \n",
    "    return image_result\n",
    "    raise NotImplementedError()\n",
    "    "
   ]
  },
  {
   "cell_type": "markdown",
   "metadata": {
    "deletable": false,
    "editable": false,
    "nbgrader": {
     "cell_type": "markdown",
     "checksum": "3acbd1c338e5a828501f2a8f2bc4dbf5",
     "grade": false,
     "grade_id": "cell-5a67e4418ba2d1a9",
     "locked": true,
     "schema_version": 3,
     "solution": false,
     "task": false
    }
   },
   "source": [
    "Read the image ``graf_small.png`` and apply the filters with ``sigma = 2``, ``4``, and ``8``.\n",
    "Again, choose the kernel size as $2 \\cdot \\lceil 3 \\sigma\\rceil + 1$.\n",
    "What do you observe?"
   ]
  },
  {
   "cell_type": "code",
   "execution_count": null,
   "metadata": {
    "deletable": false,
    "editable": false,
    "nbgrader": {
     "cell_type": "code",
     "checksum": "135ddb5ee6d082e9048d5b4a6bb26236",
     "grade": false,
     "grade_id": "cell-4e57a63100a2a6f5",
     "locked": true,
     "schema_version": 3,
     "solution": false,
     "task": false
    }
   },
   "outputs": [],
   "source": [
    "image = imageio.imread('graf_small.png')\n",
    "sigmas = [2, 4, 8]\n",
    "blurred_images = [gaussian_filter(image, s) for s in sigmas]\n",
    "titles = [f'sigma={s}' for s in sigmas]\n",
    "\n",
    "plot_multiple(blurred_images, titles)"
   ]
  },
  {
   "cell_type": "markdown",
   "metadata": {
    "deletable": false,
    "editable": false,
    "nbgrader": {
     "cell_type": "markdown",
     "checksum": "c96f1db74c2229ebd721d1cf67452ac5",
     "grade": false,
     "grade_id": "cell-cddf0a455fd28a27",
     "locked": true,
     "schema_version": 3,
     "solution": false,
     "task": false
    }
   },
   "source": [
    "OpenCV has many built-in function for image smoothing.\n",
    "Check out this page:\n",
    "https://docs.opencv.org/3.1.0/d4/d13/tutorial_py_filtering.html\n",
    "\n",
    "Compare the result of ``cv2.GaussianBlur`` with your own implementation by computing the difference image.\n",
    "Was your implementation correct?"
   ]
  },
  {
   "cell_type": "code",
   "execution_count": null,
   "metadata": {
    "deletable": false,
    "editable": false,
    "nbgrader": {
     "cell_type": "code",
     "checksum": "d70c6dcf39e65b10c29982e45c81f795",
     "grade": false,
     "grade_id": "cell-cc2728a8104625b3",
     "locked": true,
     "schema_version": 3,
     "solution": false,
     "task": false
    }
   },
   "outputs": [],
   "source": [
    "def gauss_cv(image, sigma):\n",
    "    ks = 2 * int(np.ceil(3 * sigma)) + 1\n",
    "    return cv2.GaussianBlur(image, (ks, ks), sigma, cv2.BORDER_DEFAULT)\n",
    "\n",
    "def abs_diff(image1, image2):\n",
    "    image1 = image1.astype(np.float32)\n",
    "    image2 = image2.astype(np.float32)\n",
    "    return np.mean(np.abs(image1-image2), axis=-1)\n",
    "\n",
    "blurred_images_cv = [gauss_cv(image, s) for s in sigmas]\n",
    "differences = [abs_diff(x,y) for x, y in zip(blurred_images, blurred_images_cv)]\n",
    "\n",
    "plot_multiple(blurred_images_cv, titles)\n",
    "plot_multiple(differences, titles)\n",
    "\n",
    "# Small differences (around 1-2) can be expected because of rounding\n",
    "# Mouse over the difference image and see the value in the corner in square brackets"
   ]
  },
  {
   "cell_type": "markdown",
   "metadata": {
    "deletable": false,
    "editable": false,
    "nbgrader": {
     "cell_type": "markdown",
     "checksum": "66be0daca7bb9a364262336854aee4e8",
     "grade": false,
     "grade_id": "cell-c31c64a0c62a5668",
     "locked": true,
     "schema_version": 3,
     "solution": false,
     "task": false
    }
   },
   "source": [
    "# Fourier transform\n",
    "\n",
    "In this part, we look at the effect of filtering in Fourier space.\n",
    "This gives us a different way of looking at images and yields deeper insights to what is going on when we apply a filter or downsample an image."
   ]
  },
  {
   "cell_type": "code",
   "execution_count": null,
   "metadata": {
    "deletable": false,
    "editable": false,
    "nbgrader": {
     "cell_type": "code",
     "checksum": "cdaa4c654891c5c31ffc0745c245c788",
     "grade": false,
     "grade_id": "cell-ac80ddac488a1800",
     "locked": true,
     "schema_version": 3,
     "solution": false,
     "task": false
    }
   },
   "outputs": [],
   "source": [
    "# Some Convenience Functions.\n",
    "\n",
    "def imread_gray(filename):\n",
    "    \"\"\"Read grayscale image from our data directory.\"\"\"\n",
    "    return cv2.imread(filename, cv2.IMREAD_GRAYSCALE).astype(np.float32)\n",
    "\n",
    "def convolve_with_two(image, kernel1, kernel2):\n",
    "    \"\"\"Apply two filters, one after the other.\"\"\"\n",
    "    image = ndimage.convolve(image, kernel1, mode='wrap')\n",
    "    image = ndimage.convolve(image, kernel2, mode='wrap')\n",
    "    return image\n",
    "\n",
    "def fourier_spectrum(im):\n",
    "    normalized_im = im / np.sum(im)\n",
    "    f = np.fft.fft2(normalized_im)\n",
    "    return np.fft.fftshift(f)\n",
    "\n",
    "def log_magnitude_spectrum(im):\n",
    "    return np.log(np.abs(fourier_spectrum(im))+1e-8)\n",
    "\n",
    "def plot_with_spectra(images, titles):\n",
    "    \"\"\"Plots a list of images in the first column and the logarithm of their\n",
    "    magnitude spectrum in the second column.\"\"\"\n",
    "    \n",
    "    assert len(images) == len(titles)\n",
    "    n_cols = 2\n",
    "    n_rows = len(images)\n",
    "    fig, axes = plt.subplots(\n",
    "        n_rows, 2, figsize=(n_cols * 4, n_rows * 4),\n",
    "        squeeze=False)\n",
    "\n",
    "    spectra = [log_magnitude_spectrum(im) for im in images]\n",
    "\n",
    "    lower = min(np.percentile(s, 0.1) for s in spectra)\n",
    "    upper = min(np.percentile(s, 99.999) for s in spectra)\n",
    "    normalizer = mpl.colors.Normalize(vmin=lower, vmax=upper)\n",
    "    \n",
    "    for ax, image, spectrum, title in zip(axes, images, spectra, titles):\n",
    "        ax[0].imshow(image, cmap='gray')\n",
    "        ax[0].set_title(title)\n",
    "        ax[0].set_axis_off()\n",
    "        c = ax[1].imshow(spectrum, norm=normalizer, cmap='viridis')\n",
    "        ax[1].set_title('Log magnitude spectrum')\n",
    "        ax[1].set_axis_off()\n",
    "        \n",
    "    fig.tight_layout()\n",
    "    \n",
    "def gauss(x, sigma):\n",
    "    return 1 / np.sqrt(2 * np.pi) / sigma * np.exp(- x**2 / 2 / sigma**2)\n",
    "    \n",
    "def generate_pattern():\n",
    "    x = np.linspace(0, 1, 256, endpoint=False)\n",
    "    y = np.sin(x**2 * 16 * np.pi)\n",
    "    return np.outer(y,y)/2+0.5"
   ]
  },
  {
   "cell_type": "markdown",
   "metadata": {
    "deletable": false,
    "editable": false,
    "nbgrader": {
     "cell_type": "markdown",
     "checksum": "fb2784c8ac03177bc54dbd66540a3c68",
     "grade": false,
     "grade_id": "cell-238824fec0163e13",
     "locked": true,
     "schema_version": 3,
     "solution": false,
     "task": false
    }
   },
   "source": [
    "**Plotting demo:**\n",
    "This is how you can load example images and plot the logarithm of its magnitude spectrum.\n",
    "Low frequencies appear near the center and higher frequencies towards the outside.\n",
    "Greener (lighter) colors mean higher values. The color scale is consistent within the subplots of a single plot, but may differ in different plots."
   ]
  },
  {
   "cell_type": "code",
   "execution_count": null,
   "metadata": {
    "deletable": false,
    "editable": false,
    "nbgrader": {
     "cell_type": "code",
     "checksum": "cd064b2282474b1f0af15f5386eea702",
     "grade": false,
     "grade_id": "cell-11e051f9c3539a1a",
     "locked": true,
     "schema_version": 3,
     "solution": false,
     "task": false
    }
   },
   "outputs": [],
   "source": [
    "im_grass = imread_gray('grass.jpg')\n",
    "im_zebras = imread_gray('zebras.jpg')\n",
    "im_pattern = generate_pattern()\n",
    "plot_with_spectra([im_grass, im_zebras, im_pattern], ['Grass image', 'Zebra image', 'Pattern image'])"
   ]
  },
  {
   "cell_type": "markdown",
   "metadata": {
    "deletable": false,
    "editable": false,
    "nbgrader": {
     "cell_type": "markdown",
     "checksum": "c5f6b420ee978f6e7b8d29a6841ac9b1",
     "grade": false,
     "grade_id": "cell-35165fc62439f2eb",
     "locked": true,
     "schema_version": 3,
     "solution": false,
     "task": false
    }
   },
   "source": [
    "## Blurring\n",
    "\n",
    "Consider one of the images (`im_grass` is a good choice). Implement `filter_box(image, size)` that outputs the box-filtered version of `image`, using `convolve_with_two` (since the box filter is separable). The parameter `size` refers to the side length of the box filter."
   ]
  },
  {
   "cell_type": "code",
   "execution_count": null,
   "metadata": {
    "deletable": false,
    "nbgrader": {
     "cell_type": "code",
     "checksum": "5424f97f4a6ab4e5e532dcbed7466c06",
     "grade": true,
     "grade_id": "cell-43b000bd1a7221ac",
     "locked": false,
     "points": 2,
     "schema_version": 3,
     "solution": true,
     "task": false
    }
   },
   "outputs": [],
   "source": [
    "# POINTS: 2\n",
    "\n",
    "def filter_box(image, sigma):\n",
    "    # YOUR CODE HERE\n",
    "    raise NotImplementedError()"
   ]
  },
  {
   "cell_type": "markdown",
   "metadata": {
    "deletable": false,
    "editable": false,
    "nbgrader": {
     "cell_type": "markdown",
     "checksum": "cdc60e23c33b6797092dea017058fb5f",
     "grade": false,
     "grade_id": "cell-5bb7238fdbeefd9a",
     "locked": true,
     "schema_version": 3,
     "solution": false,
     "task": false
    }
   },
   "source": [
    "Implement `filter_gauss(image, kernel_factor, sigma)` using `convolve_with_two`. The parameter `kernel_factor` defines the half size of the kernel relative to sigma (our rule of thumb from the lecture was to set this as 3)."
   ]
  },
  {
   "cell_type": "code",
   "execution_count": null,
   "metadata": {
    "deletable": false,
    "nbgrader": {
     "cell_type": "code",
     "checksum": "08668fc49fde7c2840f6a5616a189411",
     "grade": true,
     "grade_id": "cell-1981f61890f5181a",
     "locked": false,
     "points": 2,
     "schema_version": 3,
     "solution": true,
     "task": false
    }
   },
   "outputs": [],
   "source": [
    "# POINTS: 2\n",
    "\n",
    "def filter_gauss(image, kernel_factor, sigma):\n",
    "    # YOUR CODE HERE\n",
    "    raise NotImplementedError()"
   ]
  },
  {
   "cell_type": "markdown",
   "metadata": {
    "deletable": false,
    "editable": false,
    "nbgrader": {
     "cell_type": "markdown",
     "checksum": "5c34721f0ffc37de9afcb117de73fa58",
     "grade": false,
     "grade_id": "cell-d704e5f64a94cbf2",
     "locked": true,
     "schema_version": 3,
     "solution": false,
     "task": false
    }
   },
   "source": [
    "Plot the image and its blurred versions (with the box and the Gauss filter) along with their spectra using `plot_with_spectra()`. Vary the size of the box filter. What do you observe? For the Gaussian, change sigma.  What happens if you increase or decrease the `kernel_factor` compared to our rule-of-thumb value 3?"
   ]
  },
  {
   "cell_type": "code",
   "execution_count": null,
   "metadata": {
    "deletable": false,
    "editable": false,
    "nbgrader": {
     "cell_type": "code",
     "checksum": "3efa24081c22a48cb44b06dc2ec5f7db",
     "grade": false,
     "grade_id": "cell-1aa436d30ba3add8",
     "locked": true,
     "schema_version": 3,
     "solution": false,
     "task": false
    }
   },
   "outputs": [],
   "source": [
    "sigma = 3\n",
    "im = im_grass\n",
    "gauss_filtered = filter_gauss(im, kernel_factor=6, sigma=sigma)\n",
    "box_filtered = filter_box(im, sigma=sigma)\n",
    "plot_with_spectra(\n",
    "    [im, box_filtered, gauss_filtered], \n",
    "    ['Image', 'Box filtered', 'Gauss filtered'])"
   ]
  },
  {
   "cell_type": "markdown",
   "metadata": {
    "deletable": false,
    "editable": false,
    "nbgrader": {
     "cell_type": "markdown",
     "checksum": "e1eb49d6933233b5f07481eadee95f58",
     "grade": false,
     "grade_id": "cell-50f9fb9f41c5eb8b",
     "locked": true,
     "schema_version": 3,
     "solution": false,
     "task": false
    }
   },
   "source": [
    "## Sampling and aliasing\n",
    "\n",
    "Implement a function `sample_with_gaps(image, period)`, where `period` is an integer and defines the distance between two sampled points in pixels. The output should have the same size as `image` but have zeros everywhere except at the sampled points, where it should be equal to `image`. For example if `period=2` then every second row and every second column of the image should be zero in the output.\n",
    "\n",
    "In addition, implement `sample_without_gaps(image, period)`, which is like `sample_with_gaps` but the output does not contain gaps (rows and columns of zeros) and therefore the output size is smaller.\n",
    "\n",
    "Hint: These two functions can easily be realized with [Numpy indexing](https://numpy.org/doc/stable/reference/arrays.indexing.html). Do not use for-loop."
   ]
  },
  {
   "cell_type": "code",
   "execution_count": null,
   "metadata": {
    "deletable": false,
    "nbgrader": {
     "cell_type": "code",
     "checksum": "a08d71464895d592f839478c7709f3ed",
     "grade": true,
     "grade_id": "cell-f92f92bffc11138c",
     "locked": false,
     "points": 2,
     "schema_version": 3,
     "solution": true,
     "task": false
    }
   },
   "outputs": [],
   "source": [
    "# POINTS: 2\n",
    "\n",
    "def sample_with_gaps(im, period):\n",
    "    # YOUR CODE HERE\n",
    "    raise NotImplementedError()\n",
    "\n",
    "def sample_without_gaps(im, period):\n",
    "    # YOUR CODE HERE\n",
    "    raise NotImplementedError()"
   ]
  },
  {
   "cell_type": "markdown",
   "metadata": {
    "deletable": false,
    "editable": false,
    "nbgrader": {
     "cell_type": "markdown",
     "checksum": "c7f169ce1d63c86fe3981650c4deed2c",
     "grade": false,
     "grade_id": "cell-4143fa3401e2b32a",
     "locked": true,
     "schema_version": 3,
     "solution": false,
     "task": false
    }
   },
   "source": [
    "Sample the `im_zebras` image with a period of 2 pixels and plot the original and sampled images along with their spectra. \n",
    "What effect do you see in the resulting magnitude spectrum, when sampling with or without gaps?"
   ]
  },
  {
   "cell_type": "code",
   "execution_count": null,
   "metadata": {
    "deletable": false,
    "editable": false,
    "nbgrader": {
     "cell_type": "code",
     "checksum": "8d7ec32a6e8078043ad1bd8972a3ed45",
     "grade": false,
     "grade_id": "cell-6a29223ac622161a",
     "locked": true,
     "schema_version": 3,
     "solution": false,
     "task": false
    }
   },
   "outputs": [],
   "source": [
    "N=4\n",
    "im = im_zebras\n",
    "sampled_gaps = sample_with_gaps(im, N)\n",
    "sampled = sample_without_gaps(im, N)\n",
    "\n",
    "blurred = filter_gauss(im, kernel_factor=6, sigma=4)\n",
    "blurred_and_sampled_gaps = sample_with_gaps(blurred, N)\n",
    "blurred_and_sampled = sample_without_gaps(blurred, N)\n",
    "\n",
    "plot_with_spectra(\n",
    "    [im, sampled_gaps, sampled, blurred, blurred_and_sampled_gaps, blurred_and_sampled], \n",
    "    ['Original', 'Sampled (w/ gaps)', 'Sampled', 'Gauss blurred', 'Blurred and s. (w/ gaps)', 'Blurred and s.'])"
   ]
  },
  {
   "cell_type": "markdown",
   "metadata": {
    "deletable": false,
    "editable": false,
    "nbgrader": {
     "cell_type": "markdown",
     "checksum": "a86f5de7384201887fbca57d8fbb1d40",
     "grade": false,
     "grade_id": "cell-136813a8f3329a15",
     "locked": true,
     "schema_version": 3,
     "solution": false,
     "task": false
    }
   },
   "source": [
    "Consider the image `im_pattern` and sample it with a period of 4, 8 and 16 and plot the resulting spectra. What happens as you increase the sampling period?\n",
    "Now look at what happens when **Gaussian blurring** is applied before sampling, with different sigma values. Approximately what sigma do you need for avoiding artifacts when `period=16`?"
   ]
  },
  {
   "cell_type": "code",
   "execution_count": null,
   "metadata": {
    "deletable": false,
    "editable": false,
    "nbgrader": {
     "cell_type": "code",
     "checksum": "7f5e17cfef7531236efec777dbf64f8a",
     "grade": false,
     "grade_id": "cell-6b1b6c93e615cf8b",
     "locked": true,
     "schema_version": 3,
     "solution": false,
     "task": false
    }
   },
   "outputs": [],
   "source": [
    "N=16\n",
    "image = im_pattern\n",
    "downsampled_gaps = sample_with_gaps(im_pattern, N)\n",
    "downsampled = sample_without_gaps(im_pattern, N)\n",
    "\n",
    "blurred = filter_gauss(image, kernel_factor=6, sigma=12)\n",
    "blurred_and_downsampled_gaps = sample_with_gaps(blurred, N)\n",
    "blurred_and_downsampled = sample_without_gaps(blurred, N)\n",
    "\n",
    "plot_with_spectra(\n",
    "    [im_pattern, downsampled_gaps, downsampled, blurred, blurred_and_downsampled_gaps, blurred_and_downsampled], \n",
    "    ['Original', 'Downsampled (w/ gaps)', 'Downsampled (no gaps)', 'Gauss blurred', 'Blurred and ds. (w/ gaps)', 'Blurred and downs. (no gaps)'])"
   ]
  },
  {
   "cell_type": "markdown",
   "metadata": {
    "deletable": false,
    "editable": false,
    "nbgrader": {
     "cell_type": "markdown",
     "checksum": "c1215909e887e4f9d38aa72f7eca883e",
     "grade": false,
     "grade_id": "cell-a4bfb21a75007804",
     "locked": true,
     "schema_version": 3,
     "solution": false,
     "task": false
    }
   },
   "source": [
    "# Image derivatives\n",
    "This task introduces image derivative operators."
   ]
  },
  {
   "cell_type": "code",
   "execution_count": null,
   "metadata": {
    "deletable": false,
    "editable": false,
    "nbgrader": {
     "cell_type": "code",
     "checksum": "f99c31ea1cc69b1a42b5f087ac7d730a",
     "grade": false,
     "grade_id": "cell-1c7181be91873cb0",
     "locked": true,
     "schema_version": 3,
     "solution": false,
     "task": false
    }
   },
   "outputs": [],
   "source": [
    "# Some Convenience Functions.\n",
    "\n",
    "def convolve_with_two(image, kernel1, kernel2):\n",
    "    \"\"\"Apply two filters, one after the other.\"\"\"\n",
    "    image = ndimage.convolve(image, kernel1)\n",
    "    image = ndimage.convolve(image, kernel2)   \n",
    "    return image\n",
    "\n",
    "def imread_gray(filename):\n",
    "    \"\"\"Read grayscale image.\"\"\"\n",
    "    return cv2.imread(filename, cv2.IMREAD_GRAYSCALE).astype(np.float32)\n",
    "\n",
    "def plot_multiple(images, titles, colormap='gray', max_columns=np.inf, share_axes=True):\n",
    "    \"\"\"Plot multiple images as subplots on a grid.\"\"\"\n",
    "    assert len(images) == len(titles)\n",
    "    n_images = len(images)\n",
    "    n_cols = min(max_columns, n_images)\n",
    "    n_rows = int(np.ceil(n_images / n_cols))\n",
    "    fig, axes = plt.subplots(\n",
    "        n_rows, n_cols, figsize=(n_cols * 4, n_rows * 4),\n",
    "        squeeze=False, sharex=share_axes, sharey=share_axes)\n",
    "\n",
    "    axes = axes.flat\n",
    "    # Hide subplots without content\n",
    "    for ax in axes[n_images:]:\n",
    "        ax.axis('off')\n",
    "        \n",
    "    if not isinstance(colormap, (list,tuple)):\n",
    "        colormaps = [colormap]*n_images\n",
    "    else:\n",
    "        colormaps = colormap\n",
    "\n",
    "    for ax, image, title, cmap in zip(axes, images, titles, colormaps):\n",
    "        ax.imshow(image, cmap=cmap)\n",
    "        ax.set_title(title)\n",
    "        \n",
    "    fig.tight_layout()\n",
    "    \n",
    "def gauss(x, sigma):\n",
    "    return 1.0 / np.sqrt(2.0 * np.pi) / sigma * np.exp(- x**2 / 2.0 / sigma**2)"
   ]
  },
  {
   "cell_type": "markdown",
   "metadata": {
    "deletable": false,
    "editable": false,
    "nbgrader": {
     "cell_type": "markdown",
     "checksum": "49449ad6fe045b150ebbf01b29d62533",
     "grade": false,
     "grade_id": "cell-39746e8f4f9b43e4",
     "locked": true,
     "schema_version": 3,
     "solution": false,
     "task": false
    }
   },
   "source": [
    "Implement a function for creating a Gaussian derivative filter in 1D according to the following equation\n",
    "\\begin{eqnarray}\n",
    "    \\frac{d}{dx} G &=& \\frac{d}{dx} \\frac{1}{\\sqrt{2\\pi}\\sigma} \\operatorname{exp}\\biggl(-\\frac{x^2}{2\\sigma^2}\\biggr) \\\\\n",
    "\t\t\t       &=& -\\frac{1}{\\sqrt{2\\pi}\\sigma^3}x \\operatorname{exp}\\biggl(-\\frac{x^2}{2\\sigma^2}\\biggr)\n",
    "\\end{eqnarray}\n",
    "Your function should take a vector of integer values $x$ and the standard deviation ``sigma`` as arguments."
   ]
  },
  {
   "cell_type": "code",
   "execution_count": null,
   "metadata": {
    "deletable": false,
    "nbgrader": {
     "cell_type": "code",
     "checksum": "ec4ef2ee337d63da884f5caf8f20ca29",
     "grade": true,
     "grade_id": "cell-71bddd28f48b6637",
     "locked": false,
     "points": 1,
     "schema_version": 3,
     "solution": true,
     "task": false
    }
   },
   "outputs": [],
   "source": [
    "# POINTS: 1\n",
    "\n",
    "def gaussdx(x, sigma):\n",
    "    # YOUR CODE HERE\n",
    "    raise NotImplementedError()"
   ]
  },
  {
   "cell_type": "code",
   "execution_count": null,
   "metadata": {
    "deletable": false,
    "editable": false,
    "nbgrader": {
     "cell_type": "code",
     "checksum": "4113eae06fbdbc9cd044348f31ae7be9",
     "grade": false,
     "grade_id": "cell-1379d1cd8df1c39e",
     "locked": true,
     "schema_version": 3,
     "solution": false,
     "task": false
    }
   },
   "outputs": [],
   "source": [
    "x = np.linspace(-5, 5, 100)\n",
    "y = gaussdx(x, sigma=1.0)\n",
    "fig, ax = plt.subplots()\n",
    "ax.plot(x, y)\n",
    "fig.tight_layout()"
   ]
  },
  {
   "cell_type": "markdown",
   "metadata": {
    "deletable": false,
    "editable": false,
    "nbgrader": {
     "cell_type": "markdown",
     "checksum": "5439b304418fd2c5e3c73301d2874128",
     "grade": false,
     "grade_id": "cell-34bf4276c1d51139",
     "locked": true,
     "schema_version": 3,
     "solution": false,
     "task": false
    }
   },
   "source": [
    "The effect of a filter can be studied by observing its so-called *impulse response*.\n",
    "For this, create a test image in which only the central pixel has a non-zero value (called an *impulse*)."
   ]
  },
  {
   "cell_type": "code",
   "execution_count": null,
   "metadata": {
    "deletable": false,
    "nbgrader": {
     "cell_type": "code",
     "checksum": "61f7a63e383599f45843f3732e9f576b",
     "grade": true,
     "grade_id": "cell-d7885b56a66a5a1c",
     "locked": false,
     "points": 1,
     "schema_version": 3,
     "solution": true,
     "task": false
    }
   },
   "outputs": [],
   "source": [
    "# POINTS: 1\n",
    "\n",
    "def make_impulse_image(size=25):\n",
    "    # YOUR CODE HERE\n",
    "    raise NotImplementedError()\n",
    "    return impulse"
   ]
  },
  {
   "cell_type": "markdown",
   "metadata": {
    "deletable": false,
    "editable": false,
    "nbgrader": {
     "cell_type": "markdown",
     "checksum": "d31c2155df90ca44ee92848b7076aff9",
     "grade": false,
     "grade_id": "cell-ad35bac451f70fc8",
     "locked": true,
     "schema_version": 3,
     "solution": false,
     "task": false
    }
   },
   "source": [
    "What happens when you apply the following filter combinations on the impulse image?\n",
    "\n",
    "- first ``gaussian``, then ``gaussian^T``.\n",
    "- first ``gaussian``, then ``derivative^T``.\n",
    "- first ``derivative``, then ``gaussian^T``.\n",
    "- first ``gaussian^T``, then ``derivative``.\n",
    "- first ``derivative^T``, then ``gaussian``.\n",
    "\n",
    "Display the result images with the `plot_multiple` function. Describe your result."
   ]
  },
  {
   "cell_type": "code",
   "execution_count": null,
   "metadata": {
    "deletable": false,
    "editable": false,
    "nbgrader": {
     "cell_type": "code",
     "checksum": "02513d918312fec8bdc5b1c1a7327f96",
     "grade": false,
     "grade_id": "cell-77a0db55a8d16303",
     "locked": true,
     "schema_version": 3,
     "solution": false,
     "task": false
    }
   },
   "outputs": [],
   "source": [
    "# create kernels\n",
    "sigma = 6.0\n",
    "kernel_radius = int(3.0 * sigma)\n",
    "x = np.arange(-kernel_radius, kernel_radius + 1)[np.newaxis]\n",
    "G = gauss(x, sigma)\n",
    "D = gaussdx(x, sigma)\n",
    "\n",
    "impulse = make_impulse_image()\n",
    "images = [\n",
    "    impulse,\n",
    "    convolve_with_two(impulse, G, G.T),\n",
    "    convolve_with_two(impulse, G, D.T),\n",
    "    convolve_with_two(impulse, D, G.T),\n",
    "    convolve_with_two(impulse, G.T, D),\n",
    "    convolve_with_two(impulse, D.T, G)]\n",
    "\n",
    "titles = [\n",
    "    'original',\n",
    "    'first G, then G^T',\n",
    "    'first G, then D^T',\n",
    "    'first D, then G^T',\n",
    "    'first G^T, then D',\n",
    "    'first D^T, then G']\n",
    "\n",
    "plot_multiple(images, titles, max_columns=3)"
   ]
  },
  {
   "cell_type": "markdown",
   "metadata": {
    "deletable": false,
    "editable": false,
    "nbgrader": {
     "cell_type": "markdown",
     "checksum": "78a5832a482d64a0a09a6ab24536b0e5",
     "grade": false,
     "grade_id": "cell-7f8518184518d54c",
     "locked": true,
     "schema_version": 3,
     "solution": false,
     "task": false
    }
   },
   "source": [
    "Create a new function ``gaussderiv`` using the functions ``gauss`` and ``gaussdx`` directly.\n",
    "The new function should return the 2D Gaussian derivatives of an input image in $x$ and $y$ direction.\n",
    "Try the function on the given example images."
   ]
  },
  {
   "cell_type": "code",
   "execution_count": null,
   "metadata": {
    "deletable": false,
    "nbgrader": {
     "cell_type": "code",
     "checksum": "2989fa368b55fbb422a204311065fec9",
     "grade": true,
     "grade_id": "cell-c1dbe176a9830345",
     "locked": false,
     "points": 2,
     "schema_version": 3,
     "solution": true,
     "task": false
    }
   },
   "outputs": [],
   "source": [
    "# POINTS: 2\n",
    "\n",
    "def gauss_derivs(image, sigma):\n",
    "    kernel_radius = int(3.0 * sigma)\n",
    "    # YOUR CODE HERE\n",
    "    raise NotImplementedError()\n",
    "    return image_dx, image_dy"
   ]
  },
  {
   "cell_type": "code",
   "execution_count": null,
   "metadata": {
    "deletable": false,
    "editable": false,
    "nbgrader": {
     "cell_type": "code",
     "checksum": "69fdbbe7f37da1ccef7752770f2e21b8",
     "grade": false,
     "grade_id": "cell-6fe45fcf6e12d64a",
     "locked": true,
     "schema_version": 3,
     "solution": false,
     "task": false
    }
   },
   "outputs": [],
   "source": [
    "image = imread_gray('tomatoes.png')\n",
    "grad_dx, grad_dy = gauss_derivs(image, sigma=5.0)\n",
    "plot_multiple([image, grad_dx, grad_dy], ['Image', 'Derivative in x-direction', 'Derivative in y-direction'])"
   ]
  },
  {
   "cell_type": "markdown",
   "metadata": {
    "deletable": false,
    "editable": false,
    "nbgrader": {
     "cell_type": "markdown",
     "checksum": "7f99fe94c98ec25663e0abb82270dd7c",
     "grade": false,
     "grade_id": "cell-da7b0c6b2b37e752",
     "locked": true,
     "schema_version": 3,
     "solution": false,
     "task": false
    }
   },
   "source": [
    "In a similar manner, create a new function ``gauss_second_derivs`` that returns the 2D second Gaussian derivatives $\\frac{d^2}{dx^2}$, $\\frac{d^2}{dx dy}$ and $\\frac{d^2}{dy^2}$ of an input image.\n",
    "Try the function on the given example images."
   ]
  },
  {
   "cell_type": "code",
   "execution_count": null,
   "metadata": {
    "deletable": false,
    "nbgrader": {
     "cell_type": "code",
     "checksum": "0599a706bb81dc956840218ccb4e1258",
     "grade": true,
     "grade_id": "cell-fca3722dfbb99335",
     "locked": false,
     "points": 2,
     "schema_version": 3,
     "solution": true,
     "task": false
    }
   },
   "outputs": [],
   "source": [
    "# POINTS: 2\n",
    "\n",
    "def gauss_second_derivs(image, sigma):\n",
    "    kernel_radius = int(3.0 * sigma)\n",
    "    # YOUR CODE HERE\n",
    "    raise NotImplementedError()\n",
    "    \n",
    "    return image_dxx, image_dxy, image_dyy"
   ]
  },
  {
   "cell_type": "code",
   "execution_count": null,
   "metadata": {
    "deletable": false,
    "editable": false,
    "nbgrader": {
     "cell_type": "code",
     "checksum": "2a4f069c9a3f14e059be6895ef6aa31f",
     "grade": false,
     "grade_id": "cell-be82eed8ce4f65e7",
     "locked": true,
     "schema_version": 3,
     "solution": false,
     "task": false
    }
   },
   "outputs": [],
   "source": [
    "image = imread_gray('coins1.jpg')\n",
    "grad_dxx, grad_dxy, grad_dyy = gauss_second_derivs(image, sigma=2.0)\n",
    "plot_multiple([image, grad_dxx, grad_dxy, grad_dyy], ['Image', 'Dxx', 'Dxy','Dyy'])"
   ]
  },
  {
   "cell_type": "code",
   "execution_count": null,
   "metadata": {
    "deletable": false,
    "editable": false,
    "nbgrader": {
     "cell_type": "code",
     "checksum": "aa724de65fa92923660072e57549de42",
     "grade": false,
     "grade_id": "cell-0373b64aef70468d",
     "locked": true,
     "schema_version": 3,
     "solution": false,
     "task": false
    }
   },
   "outputs": [],
   "source": [
    "image = imread_gray('circuit.png')\n",
    "grad_dxx, grad_dxy, grad_dyy = gauss_second_derivs(image, sigma=2.0)\n",
    "plot_multiple([image, grad_dxx, grad_dxy, grad_dyy], ['Image', 'Dxx', 'Dxy','Dyy'])"
   ]
  },
  {
   "cell_type": "markdown",
   "metadata": {
    "deletable": false,
    "editable": false,
    "nbgrader": {
     "cell_type": "markdown",
     "checksum": "79cf6bb3a2de41f85b8747f3fa5cb3f4",
     "grade": false,
     "grade_id": "cell-0f5dcc0ab061ce88",
     "locked": true,
     "schema_version": 3,
     "solution": false,
     "task": false
    }
   },
   "source": [
    "Create a new function ``image_gradients_polar`` that returns two images with the magnitude and orientation of the gradient for each pixel of the input image. Try the function on the given example images."
   ]
  },
  {
   "cell_type": "code",
   "execution_count": null,
   "metadata": {
    "deletable": false,
    "nbgrader": {
     "cell_type": "code",
     "checksum": "7448d5ff5f9c2cc75d83766f4875cf68",
     "grade": true,
     "grade_id": "cell-8a07e53b0fe692ef",
     "locked": false,
     "points": 2,
     "schema_version": 3,
     "solution": true,
     "task": false
    }
   },
   "outputs": [],
   "source": [
    "# POINTS: 2\n",
    "\n",
    "def image_gradients_polar(image, sigma):\n",
    "    # YOUR CODE HERE\n",
    "    raise NotImplementedError()\n",
    "    return magnitude, direction"
   ]
  },
  {
   "cell_type": "code",
   "execution_count": null,
   "metadata": {
    "deletable": false,
    "editable": false,
    "nbgrader": {
     "cell_type": "code",
     "checksum": "73f664b1d45112646e859513af3d29f1",
     "grade": false,
     "grade_id": "cell-ad307dea6bdf344c",
     "locked": true,
     "schema_version": 3,
     "solution": false,
     "task": false
    }
   },
   "outputs": [],
   "source": [
    "image = imread_gray('coins1.jpg')\n",
    "grad_mag, grad_dir = image_gradients_polar(image, sigma=2.0)\n",
    "\n",
    "# Note: the twilight colormap only works since Matplotlib 3.0, use 'gray' in earlier versions.\n",
    "plot_multiple([image, grad_mag, grad_dir], ['Image', 'Magnitude', 'Direction'], colormap=['gray', 'gray', 'twilight']) "
   ]
  },
  {
   "cell_type": "code",
   "execution_count": null,
   "metadata": {
    "deletable": false,
    "editable": false,
    "nbgrader": {
     "cell_type": "code",
     "checksum": "d799fce53febe57203a780742aac2dc6",
     "grade": false,
     "grade_id": "cell-12e886a64c8182ea",
     "locked": true,
     "schema_version": 3,
     "solution": false,
     "task": false
    }
   },
   "outputs": [],
   "source": [
    "image = imread_gray('circuit.png')\n",
    "grad_mag, grad_theta = image_gradients_polar(image, sigma=2.0)\n",
    "plot_multiple([image, grad_mag, grad_theta], ['Image', 'Magnitude', 'Direction'], colormap=['gray', 'gray', 'twilight'])"
   ]
  },
  {
   "cell_type": "markdown",
   "metadata": {
    "deletable": false,
    "editable": false,
    "nbgrader": {
     "cell_type": "markdown",
     "checksum": "f1a1686c753789b0ae57d36f563ddf1d",
     "grade": false,
     "grade_id": "cell-a8c41842a29b1a10",
     "locked": true,
     "schema_version": 3,
     "solution": false,
     "task": false
    }
   },
   "source": [
    "Create a new function ``laplace`` that returns an image with the Laplacian-of-Gaussian for each pixel of the input image.\n",
    "Try the function on the given example images"
   ]
  },
  {
   "cell_type": "code",
   "execution_count": null,
   "metadata": {
    "deletable": false,
    "nbgrader": {
     "cell_type": "code",
     "checksum": "6e5f1ad4dd953fcff4adc56b59d39500",
     "grade": true,
     "grade_id": "cell-9cc2af0d4458b852",
     "locked": false,
     "points": 2,
     "schema_version": 3,
     "solution": true,
     "task": false
    }
   },
   "outputs": [],
   "source": [
    "# POINTS: 2\n",
    "\n",
    "def laplace(image, sigma):\n",
    "    # YOUR CODE HERE\n",
    "    raise NotImplementedError()"
   ]
  },
  {
   "cell_type": "code",
   "execution_count": null,
   "metadata": {
    "deletable": false,
    "editable": false,
    "nbgrader": {
     "cell_type": "code",
     "checksum": "b4b1be585598ee7214d3fbacb0cb6260",
     "grade": false,
     "grade_id": "cell-3b5f255c2c0514be",
     "locked": true,
     "schema_version": 3,
     "solution": false,
     "task": false
    }
   },
   "outputs": [],
   "source": [
    "image = imread_gray('coins1.jpg')\n",
    "lap = laplace(image, sigma=2.0)\n",
    "plot_multiple([image, lap], ['Image', 'Laplace'])"
   ]
  },
  {
   "cell_type": "code",
   "execution_count": null,
   "metadata": {
    "deletable": false,
    "editable": false,
    "nbgrader": {
     "cell_type": "code",
     "checksum": "a7e9826fb5f07ff5e07753e3bfdfbef0",
     "grade": false,
     "grade_id": "cell-7a60badcc5c219f5",
     "locked": true,
     "schema_version": 3,
     "solution": false,
     "task": false
    }
   },
   "outputs": [],
   "source": [
    "image = imread_gray('circuit.png')\n",
    "lap = laplace(image, sigma=2.0)\n",
    "plot_multiple([image, lap], ['Image', 'Laplace'])"
   ]
  },
  {
   "cell_type": "markdown",
   "metadata": {
    "deletable": false,
    "editable": false,
    "nbgrader": {
     "cell_type": "markdown",
     "checksum": "c22301fa4417b6c56c2404dfb1538211",
     "grade": false,
     "grade_id": "cell-b3e2563c16cf27fa",
     "locked": true,
     "schema_version": 3,
     "solution": false,
     "task": false
    }
   },
   "source": [
    "# Edge detection\n",
    "In this part we will create a simple edge detector. \n",
    "\n",
    "**Note:** you will need `gauss_derivs` and `image_gradients_polar` functions from the task \"Image derivatives\". "
   ]
  },
  {
   "cell_type": "code",
   "execution_count": null,
   "metadata": {
    "deletable": false,
    "editable": false,
    "nbgrader": {
     "cell_type": "code",
     "checksum": "a1796d0ca449226928f6fb30f0f7f681",
     "grade": false,
     "grade_id": "cell-cabb22b059dab5b6",
     "locked": true,
     "schema_version": 3,
     "solution": false,
     "task": false
    }
   },
   "outputs": [],
   "source": [
    "# Some convenience functions.\n",
    "\n",
    "def convolve_with_two(image, kernel1, kernel2):\n",
    "    \"\"\"Apply two filters, one after the other.\"\"\"\n",
    "    image = ndimage.convolve(image, kernel1)\n",
    "    image = ndimage.convolve(image, kernel2)   \n",
    "    return image\n",
    "\n",
    "def plot_multiple(images, titles, colormap='gray', max_columns=np.inf, imsize=4, share_axes=True):\n",
    "    \"\"\"Plot multiple images as subplots on a grid.\"\"\"\n",
    "    assert len(images) == len(titles)\n",
    "    n_images = len(images)\n",
    "    n_cols = min(max_columns, n_images)\n",
    "    n_rows = int(np.ceil(n_images / n_cols))\n",
    "    fig, axes = plt.subplots(\n",
    "        n_rows, n_cols, figsize=(n_cols * imsize, n_rows * imsize),\n",
    "        squeeze=False, sharex=share_axes, sharey=share_axes)\n",
    "\n",
    "    axes = axes.flat\n",
    "    # Hide subplots without content\n",
    "    for ax in axes[n_images:]:\n",
    "        ax.axis('off')\n",
    "        \n",
    "    if not isinstance(colormap, (list,tuple)):\n",
    "        colormaps = [colormap]*n_images\n",
    "    else:\n",
    "        colormaps = colormap\n",
    "\n",
    "    for ax, image, title, cmap in zip(axes, images, titles, colormaps):\n",
    "        ax.imshow(image, cmap=cmap)\n",
    "        ax.set_title(title)\n",
    "        \n",
    "    fig.tight_layout()"
   ]
  },
  {
   "cell_type": "markdown",
   "metadata": {
    "deletable": false,
    "editable": false,
    "nbgrader": {
     "cell_type": "markdown",
     "checksum": "965392cefe95b9a76c95881cb79bf401",
     "grade": false,
     "grade_id": "cell-2ea92cf0cfae0e48",
     "locked": true,
     "schema_version": 3,
     "solution": false,
     "task": false
    }
   },
   "source": [
    "Write a function ``get_edges`` that returns a binary image ``edge`` from an input image where the color of each pixel $p$ is selected as follows (for a given threshold ``theta``):\n",
    "\\begin{eqnarray}\n",
    "    p &=&\n",
    "    \\begin{cases}\n",
    "        1, &\\text{ if }\\left|\\operatorname{grad}(\\mathtt{img})\\right|(p) \\geq \\theta\\\\\n",
    "        0, &\\text{ else}\n",
    "    \\end{cases}\n",
    "\\end{eqnarray}\n",
    "Experiment with the function ``get_edges`` on the example images.\n",
    "Try to get good edge images for different values of ``sigma``.\n",
    "What difficulties do you observe when selecting ``sigma`` and ``theta``?"
   ]
  },
  {
   "cell_type": "code",
   "execution_count": null,
   "metadata": {
    "deletable": false,
    "nbgrader": {
     "cell_type": "code",
     "checksum": "ef2bb80cab235206399c1852f4597014",
     "grade": true,
     "grade_id": "cell-95fbcbccfc0fc900",
     "locked": false,
     "points": 1,
     "schema_version": 3,
     "solution": true
    }
   },
   "outputs": [],
   "source": [
    "# POINTS: 1\n",
    "\n",
    "def get_edges(image, sigma, theta):\n",
    "    # YOUR CODE HERE\n",
    "    raise NotImplementedError()"
   ]
  },
  {
   "cell_type": "code",
   "execution_count": null,
   "metadata": {
    "deletable": false,
    "editable": false,
    "nbgrader": {
     "cell_type": "code",
     "checksum": "bddec55593a892b9956ad857436a6a82",
     "grade": false,
     "grade_id": "cell-d070956bd54e5d5e",
     "locked": true,
     "schema_version": 3,
     "solution": false,
     "task": false
    }
   },
   "outputs": [],
   "source": [
    "color_im = imageio.imread('gantrycrane.png')\n",
    "gray_im = cv2.cvtColor(color_im, cv2.COLOR_RGB2GRAY).astype(np.float32)\n",
    "plot_multiple([gray_im], ['Image'])\n",
    "\n",
    "sigmas = [1, 2]\n",
    "thetas = [1, 2, 5, 10, 20, 40, 60]\n",
    "\n",
    "images = []\n",
    "titles = []\n",
    "for sigma in sigmas:\n",
    "    for theta in thetas:\n",
    "        edges = get_edges(gray_im, sigma, theta)    \n",
    "        images.append(edges)\n",
    "        titles.append(f'sigma={sigma}, theta={theta}')\n",
    "\n",
    "plot_multiple(images, titles, max_columns=7, imsize=2)"
   ]
  },
  {
   "cell_type": "markdown",
   "metadata": {
    "deletable": false,
    "editable": false,
    "nbgrader": {
     "cell_type": "markdown",
     "checksum": "fea894a5e07cc3383cd00ce7d694debd",
     "grade": false,
     "grade_id": "cell-ab02a80995f9c982",
     "locked": true,
     "schema_version": 3,
     "solution": false,
     "task": false
    }
   },
   "source": [
    "Using the above function, returned edges are still several pixels wide.\n",
    "In practice, this is often not desired.\n",
    "Create a function ``get_edges_with_nms`` that extends ``get_edges`` by using the following function to suppress non-maximum points along the gradient direction.\n",
    "\n",
    "Note that this simplified code does not interpolate between the neighboring pixel values in order to look up the real magnitude samples along the gradient direction.\n",
    "This interpolation is crucial to obtain the necessary robustness for an actual implementation.\n",
    "Here it was left out for better readability, since the interpolation involves some extra effort in order to deal with all special cases (e.g. exactly horizontal or vertical gradients).\n",
    "If you feel motivated, you can try to add this step to make the function more robust."
   ]
  },
  {
   "cell_type": "code",
   "execution_count": null,
   "metadata": {
    "deletable": false,
    "nbgrader": {
     "cell_type": "code",
     "checksum": "fb8204fb9329dbd9dcd9d8642449b8a6",
     "grade": true,
     "grade_id": "cell-965edb7fde929842",
     "locked": false,
     "points": 4,
     "schema_version": 3,
     "solution": true
    }
   },
   "outputs": [],
   "source": [
    "# POINTS: 4\n",
    "\n",
    "def nms_for_canny(grad_mag, grad_dir):\n",
    "    result = np.zeros_like(grad_mag)\n",
    "        \n",
    "    # Pre-define pixel index offset along different orientation\n",
    "    offsets_x = [-1, -1, 0, 1, 1, 1, 0, -1, -1]\n",
    "    offsets_y = [0, -1, -1, -1, 0, 1, 1, 1, 0]\n",
    "    height, width = grad_mag.shape\n",
    "    for y in range(1, height-1):\n",
    "        for x in range(1, width-1):\n",
    "            \n",
    "            # YOUR CODE HERE\n",
    "            raise NotImplementedError()\n",
    "    \n",
    "    return result"
   ]
  },
  {
   "cell_type": "markdown",
   "metadata": {
    "deletable": false,
    "editable": false,
    "nbgrader": {
     "cell_type": "markdown",
     "checksum": "f1bc1f1b5d85e0866b469dd300cf69e1",
     "grade": false,
     "grade_id": "cell-ac06d7d2d7e2a14a",
     "locked": true,
     "schema_version": 3,
     "solution": false,
     "task": false
    }
   },
   "source": [
    "Another problem is that suitable values for ``theta`` may vary substantially between images.\n",
    "Extend the function ``get_edges_with_nms`` such that the threshold $\\theta \\in [0,1]$ is defined relative to the maximal gradient magnitude value in the image."
   ]
  },
  {
   "cell_type": "code",
   "execution_count": null,
   "metadata": {
    "deletable": false,
    "nbgrader": {
     "cell_type": "code",
     "checksum": "a91c4265e8b4ebf60b933e318c745d3e",
     "grade": true,
     "grade_id": "cell-1b4393e5c8f86359",
     "locked": false,
     "points": 1,
     "schema_version": 3,
     "solution": true
    }
   },
   "outputs": [],
   "source": [
    "# POINTS: 1\n",
    "\n",
    "def get_edges_with_nms(image, sigma, theta):\n",
    "    # YOUR CODE HERE\n",
    "    raise NotImplementedError()"
   ]
  },
  {
   "cell_type": "code",
   "execution_count": null,
   "metadata": {
    "deletable": false,
    "editable": false,
    "nbgrader": {
     "cell_type": "code",
     "checksum": "4efbf00017eaceddaafce97d3a06961d",
     "grade": false,
     "grade_id": "cell-f5e1b6aadc2c43ab",
     "locked": true,
     "schema_version": 3,
     "solution": false,
     "task": false
    }
   },
   "outputs": [],
   "source": [
    "edges1 = get_edges(gray_im, sigma=2, theta=5)\n",
    "edges2 = get_edges_with_nms(gray_im, sigma=2, theta=0.17) # 0.17 corresponds to an absolute threshold of 5\n",
    "\n",
    "plot_multiple([edges1, edges2], ['get_edges', 'get_edges_with_nms'], imsize=6)"
   ]
  },
  {
   "cell_type": "markdown",
   "metadata": {
    "deletable": false,
    "editable": false,
    "nbgrader": {
     "cell_type": "markdown",
     "checksum": "2ab7884326f4aebcc5b60aad2d26defe",
     "grade": false,
     "grade_id": "cell-7cd40ea6cb6e4c80",
     "locked": true,
     "schema_version": 3,
     "solution": false,
     "task": false
    }
   },
   "source": [
    "The function ``get_edges`` you implemented is a simplified version of the Canny edge detection pipeline.\n",
    "The main step that is still missing is the edge following with hysteresis thresholding.\n",
    "The idea here is that instead of applying a single threshold over the entire image, the edge detector works with two different thresholds ``theta_high`` and ``theta_low``.\n",
    "It starts with an edge pixel with a value above ``theta_high`` and then follows the contour in the direction orthogonal to the gradient until the pixel value falls below ``theta_low``.\n",
    "Each pixel visited along the way is labeled as an edge.\n",
    "The procedure is repeated until no further pixel above ``theta_high`` remains.\n",
    "\n",
    "Try writing a function ``my_canny`` that implements this procedure.\n",
    "Don't worry about efficiency for the moment.\n",
    "You may use the provided function skeleton to help you get started but can also start from scratch. The following hints may help you:\n",
    "- You can create a boolean array ``visited`` for already visited and yet-to-visit image pixels. Since we are not interested in pixels below the low threshold you can mark them as visited. In another boolean array you can flag the pixels that serve as starting points for line following.\n",
    "- You can also avoid having to deal with special cases along the image borders by creating a 1-pixel boundary where the ``visited`` flag is set to ``true``.\n",
    "- The actual edge following part is most easily implemented as a recursive procedure. In most cases, you will have the option to choose between several possible continuation points. Again, the easiest way is to try all of them in sequence (or even all 8 neighbors) and let the recursive procedure (together with the ``visited`` flags) do the rest."
   ]
  },
  {
   "cell_type": "code",
   "execution_count": null,
   "metadata": {
    "deletable": false,
    "nbgrader": {
     "cell_type": "code",
     "checksum": "5615c8a1d3bfbfee52c697bb59647b6e",
     "grade": true,
     "grade_id": "cell-3ad713f1d3f174ac",
     "locked": false,
     "points": 5,
     "schema_version": 3,
     "solution": true
    }
   },
   "outputs": [],
   "source": [
    "# POINTS: 5\n",
    "\n",
    "def my_canny(image, sigma, theta_low, theta_high):\n",
    "    # Compute gradient, apply non-maximum suppression\n",
    "    # YOUR CODE HERE\n",
    "    raise NotImplementedError()\n",
    "    \n",
    "    # Compute absolute threshold relative to max value\n",
    "    max_val = np.max(grad_mag)\n",
    "    theta_low_abs = theta_low * max_val\n",
    "    theta_high_abs = theta_high * max_val\n",
    "    \n",
    "    # Initialize flags\n",
    "    # Declare all pixels below the low threshold as visited\n",
    "    # so edges are not followed there\n",
    "    visited = grad_mag < theta_low_abs  \n",
    "    \n",
    "    # Mark boundary pixels as visited\n",
    "    visited[:, 0] = 1\n",
    "    visited[:, -1] = 1\n",
    "    visited[0, :] = 1\n",
    "    visited[-1, :] = 1\n",
    " \n",
    "    # Output image\n",
    "    image_out = np.zeros_like(image)\n",
    "    \n",
    "    def follow_edge(x, y):\n",
    "        visited[y, x] = True\n",
    "        image_out[y, x] = 255\n",
    "        \n",
    "        # Pre-define pixel index offset along different orientation\n",
    "        offsets_x = [-1, -1, 0, 1, 1, 1, 0, -1]\n",
    "        offsets_y = [0, -1, -1, -1, 0, 1, 1, 1]           \n",
    "    \n",
    "        for ox, oy in zip(offsets_x, offsets_y):\n",
    "            # Note: `visited` is already False for points\n",
    "            # below the low threshold.\n",
    "            \n",
    "            # YOUR CODE HERE\n",
    "            raise NotImplementedError()\n",
    "            \n",
    "\n",
    "    is_high = grad_mag >= theta_high_abs\n",
    "    # Main loop\n",
    "    for x in range(image.shape[1]):\n",
    "        for y in range(image.shape[0]):\n",
    "            # YOUR CODE HERE\n",
    "            raise NotImplementedError()\n",
    "                \n",
    "    return image_out                "
   ]
  },
  {
   "cell_type": "markdown",
   "metadata": {
    "deletable": false,
    "editable": false,
    "nbgrader": {
     "cell_type": "markdown",
     "checksum": "6a486a36f269fcc3da04f1a11b1cec9a",
     "grade": false,
     "grade_id": "cell-b55b3242045db9da",
     "locked": true,
     "schema_version": 3,
     "solution": false,
     "task": false
    }
   },
   "source": [
    "OpenCV provides a built-in function that implements the Canny edge detector.\n",
    "https://docs.opencv.org/3.4/da/d5c/tutorial_canny_detector.html\n",
    "Try ``cv2.Canny`` on the provided example images and compare the results to those of your implementation.\n",
    "Note: the implementation of ``cv2.Canny`` does not include blurring the image as we did.\n",
    "So apply ``cv2.GaussianBlur`` on the image, before passing it to ``cv2.Canny``."
   ]
  },
  {
   "cell_type": "code",
   "execution_count": null,
   "metadata": {
    "deletable": false,
    "editable": false,
    "nbgrader": {
     "cell_type": "code",
     "checksum": "5bb6ebff561ad45332ef771ea8217704",
     "grade": false,
     "grade_id": "cell-b9b3bf2a1933c1c2",
     "locked": true,
     "schema_version": 3,
     "solution": false,
     "task": false
    }
   },
   "outputs": [],
   "source": [
    "edge_canny = my_canny(gray_im, sigma=2, theta_low=0.1, theta_high=0.3)\n",
    "\n",
    "blurred_cv = cv2.GaussianBlur(gray_im, ksize=(7,7), sigmaX=2)\n",
    "edge_canny_cv = cv2.Canny(\n",
    "    blurred_cv.astype(np.uint8), \n",
    "    39, 72, L2gradient=True).astype(np.float32)\n",
    "\n",
    "plot_multiple([edge_canny, edge_canny_cv, edge_canny-edge_canny_cv], \n",
    "              ['my_canny', 'cv2.Canny', 'Difference'], imsize=5)"
   ]
  },
  {
   "cell_type": "markdown",
   "metadata": {
    "deletable": false,
    "editable": false,
    "nbgrader": {
     "cell_type": "markdown",
     "checksum": "7ba0f31c6ef38ee3a534d7f1da3f2c5f",
     "grade": false,
     "grade_id": "cell-87f269175d23ffe8",
     "locked": true,
     "schema_version": 3,
     "solution": false,
     "task": false
    }
   },
   "source": [
    "## [OPTIONAL] Improved edge detector\n",
    "This solution gives better results, but its results still depend strongly on the maximal gradient magnitude value in the image.\n",
    "For a cleaner solution, we want to adapt the threshold to the distribution of all gradient magnitude values, such that we can directly control the number of edge pixels we get.\n",
    "Extend the function `get_edges` by the following steps in order to do this:\n",
    "\n",
    "- Perform non-maximum suppression on the gradient magnitude image as shown above.\n",
    "- Transform the result image into a vector.\n",
    "- Build a histogram of the remaining gradient magnitude values.\n",
    "- Compute the cumulative sum over the histogram (except for the first cell).\n",
    "- The last cell of the cumulative histogram now contains the total number of edge pixels in the image, `num_total_edge_pixels`. Compute the desired number of edge pixels `num_desired_edge_pixels` as the percentage `theta` of `num_total_edge_pixels`.\n",
    "- Find the threshold for which the cumulative histogram contains the value `num_desired_edge_pixels`."
   ]
  },
  {
   "cell_type": "code",
   "execution_count": null,
   "metadata": {
    "deletable": false,
    "nbgrader": {
     "cell_type": "code",
     "checksum": "2645afa6cd0f44df6842a328481f2657",
     "grade": true,
     "grade_id": "cell-3dfd1f9031772205",
     "locked": false,
     "points": 0,
     "schema_version": 3,
     "solution": true,
     "task": false
    }
   },
   "outputs": [],
   "source": [
    "# YOUR CODE HERE\n",
    "raise NotImplementedError()"
   ]
  },
  {
   "cell_type": "markdown",
   "metadata": {},
   "source": [
    "# Hough transform\n",
    "\n",
    "In this task, we will implement a Hough transform in order to detect parametric curves, such as lines or circles.\n",
    "In the following, we shortly review the motivation for this technique.\n",
    "\n",
    "Consider the point $p=(\\mathtt{x},\\mathtt{y})$ and the equation for a line $y = mx+c$. What are the lines that could pass through $p$?\n",
    "The answer is simple: all the lines for which $m$ and $c$ satisfy $\\mathtt{y} = m\\mathtt{x}+c$.\n",
    "Regarding $(\\mathtt{x},\\mathtt{y})$ as fixed, the last equation is that of a line in $(m,c)$-space.\n",
    "Repeating this reasoning, a second point $p'=(\\mathtt{x}',\\mathtt{y}')$ will also have an associated line in parameter space, and the two lines will intersect at the point $(\\tilde{m},\\tilde{c})$, which corresponds to the line connecting $p$ and $p'$.\n",
    "\n",
    "In order to find lines in the input image, we can thus pursue the following approach.\n",
    "We start with an empty accumulator array quantizing the parameter space for $m$ and $c$.\n",
    "For each edge pixel in the input image, we then draw a line in the accumulator array and increment the corresponding cells.\n",
    "Edge pixels on the same line in the input image will produce intersecting lines in $(m,c)$-space and will thus reinforce the intersection point.\n",
    "Maxima in this array thus correspond to lines in the input image that many edge pixels agree on.\n",
    "\n",
    "In practice, the parametrization in terms of $m$ and $c$ is problematic, since the slope $m$ may become infinite.\n",
    "Instead, we use the following parametrization in polar coordinates:\n",
    "\\begin{equation}\n",
    "\t\\mathtt{x}\\cos\\theta + \\mathtt{y}\\sin\\theta = \\rho \\label{eq:hough_line}\n",
    "\\end{equation}\n",
    "This produces a sinusoidal curve in $(\\rho,\\theta)$-space, but otherwise the procedure is unchanged.\n",
    "\n",
    "The following sub-questions will guide you through the steps of building a Hough transform.\n",
    "\n",
    "## Hough voting\n",
    "Build up an accumulator array ``acc`` for the parameter space $(\\rho, \\theta)$. $\\theta$ ranges from $-\\pi/2$ to $\\pi/2$, and $\\rho$ ranges from $-D$ to $D$, where $D$ denotes the length of the image diagonal.\n",
    "Use ``n_bins_rho`` and ``n_bins_theta`` as the number of bins in each direction.\n",
    "Initially, the array should be filled with zeros.\n",
    "\n",
    "For each edge pixel in the input image, create the corresponding curve in $(\\rho, \\theta)$ space by evaluating above line equation for all values of $\\theta$ and incrementing the corresponding cells of the accumulator array."
   ]
  },
  {
   "cell_type": "code",
   "execution_count": null,
   "metadata": {
    "deletable": false,
    "nbgrader": {
     "cell_type": "code",
     "checksum": "a56d7aa0b330fa2fb38965c273665057",
     "grade": true,
     "grade_id": "cell-200580483b10b07d",
     "locked": false,
     "points": 5,
     "schema_version": 3,
     "solution": true
    }
   },
   "outputs": [],
   "source": [
    "# POINTS: 5\n",
    "\n",
    "def hough_transform(edge_image, n_bins_rho, n_bins_theta):\n",
    "    # Vote accumulator\n",
    "    votes = np.zeros((n_bins_rho, n_bins_theta), dtype=np.int)  \n",
    "    \n",
    "    # Create bins\n",
    "    diag = np.linalg.norm(edge_image.shape)  # Length of image diagonal\n",
    "    theta_bins = np.linspace(-np.pi / 2, np.pi / 2, n_bins_theta)\n",
    "    rho_bins = np.linspace(-diag, diag, n_bins_rho)\n",
    "    \n",
    "    # YOUR CODE HERE\n",
    "    raise NotImplementedError()\n",
    "    return votes, rho_bins, theta_bins"
   ]
  },
  {
   "cell_type": "markdown",
   "metadata": {
    "deletable": false,
    "editable": false,
    "nbgrader": {
     "cell_type": "markdown",
     "checksum": "12f641af8d0a2c9148fdf12a97d39e25",
     "grade": false,
     "grade_id": "cell-15119e3e172dac46",
     "locked": true,
     "schema_version": 3,
     "solution": false,
     "task": false
    }
   },
   "source": [
    "Now we can test the implementation on an example image and visualize the resulting Hough space by displaying it as a 2D image."
   ]
  },
  {
   "cell_type": "code",
   "execution_count": null,
   "metadata": {
    "deletable": false,
    "editable": false,
    "nbgrader": {
     "cell_type": "code",
     "checksum": "698653575aef709289746485f97a0717",
     "grade": false,
     "grade_id": "cell-a79abef7726b3a67",
     "locked": true,
     "schema_version": 3,
     "solution": false,
     "task": false
    }
   },
   "outputs": [],
   "source": [
    "color_im = imageio.imread('gantrycrane.png')\n",
    "gray_im = cv2.cvtColor(color_im, cv2.COLOR_RGB2GRAY)\n",
    "\n",
    "# Get edges using Canny\n",
    "blurred = cv2.GaussianBlur(gray_im, None, sigmaX=2.5)\n",
    "edges = cv2.Canny(blurred, threshold1=30, threshold2=50)\n",
    "\n",
    "hough_space, rho_bins, theta_bins = hough_transform(edges, n_bins_rho=300, n_bins_theta=300)\n",
    "\n",
    "fig, axes = plt.subplots(1, 3, figsize=(12, 4))\n",
    "axes[0].imshow(color_im)\n",
    "axes[0].set_title('Image')\n",
    "axes[1].imshow(edges, cmap='gray')\n",
    "axes[1].set_title('Edges')\n",
    "axes[2].imshow(hough_space)\n",
    "axes[2].set_title('Hough space')\n",
    "axes[2].set_xlabel('theta (index)')\n",
    "axes[2].set_ylabel('rho (index)')\n",
    "fig.tight_layout()"
   ]
  },
  {
   "cell_type": "markdown",
   "metadata": {
    "deletable": false,
    "editable": false,
    "nbgrader": {
     "cell_type": "markdown",
     "checksum": "441027c3c57a277a5612bb11becf3d6f",
     "grade": false,
     "grade_id": "cell-865d0e28d5bfc0ac",
     "locked": true,
     "schema_version": 3,
     "solution": false,
     "task": false
    }
   },
   "source": [
    "## Non-maximum suppression and finding peaks\n",
    "Write a function ``nms2d`` which suppresses all points in the Hough space that are not local maxima.\n",
    "This can be achieved by looking at the 8 direct neighbors of each pixel and keeping only pixels whose value is greater than all its neighbors. This function is simpler than the non-maximum suppression from the Canny Edge Detector exercise, since it does not take into account local gradients.\n",
    "\n",
    "Tip: think about what to do at the borders of the Hough array. What happens if we simply ignore the border areas? How should we treat it to be precise? (Remember that theta represents an angle that wraps around back to itself)."
   ]
  },
  {
   "cell_type": "code",
   "execution_count": null,
   "metadata": {
    "deletable": false,
    "nbgrader": {
     "cell_type": "code",
     "checksum": "1f68295d958f63e581ea993a1be5729c",
     "grade": true,
     "grade_id": "cell-6d4f7f4681882539",
     "locked": false,
     "points": 3,
     "schema_version": 3,
     "solution": true
    }
   },
   "outputs": [],
   "source": [
    "# POINTS: 3\n",
    "\n",
    "def nms2d(hough_array):\n",
    "    hough_array_out = np.zeros_like(hough_array)\n",
    "    \n",
    "    # YOUR CODE HERE\n",
    "    raise NotImplementedError()\n",
    "                \n",
    "    return hough_array_out"
   ]
  },
  {
   "cell_type": "markdown",
   "metadata": {
    "deletable": false,
    "editable": false,
    "nbgrader": {
     "cell_type": "markdown",
     "checksum": "32f28dd56c3641b40992e78d2060f8f6",
     "grade": false,
     "grade_id": "cell-7e060df45bec23a3",
     "locked": true,
     "schema_version": 3,
     "solution": false,
     "task": false
    }
   },
   "source": [
    "Write a function ``find_hough_peaks`` that takes the result of ``hough_transform`` as an argument, finds the extrema in Hough space using ``nms2d`` and returns the index of all points $(\\rho_i, \\theta_i)$ for which the corresponding Hough value is greater than ``threshold``. What would happen if we swapped the order of the thresholding and the NMS operations?"
   ]
  },
  {
   "cell_type": "code",
   "execution_count": null,
   "metadata": {
    "deletable": false,
    "nbgrader": {
     "cell_type": "code",
     "checksum": "98222cdbcb47366e2b1ebf970155fc7d",
     "grade": true,
     "grade_id": "cell-9eda7cc46c4f7235",
     "locked": false,
     "points": 1,
     "schema_version": 3,
     "solution": true
    }
   },
   "outputs": [],
   "source": [
    "# POINTS: 1\n",
    "\n",
    "def find_hough_peaks(hough_space, threshold):\n",
    "    # YOUR CODE HERE\n",
    "    raise NotImplementedError()"
   ]
  },
  {
   "cell_type": "markdown",
   "metadata": {
    "deletable": false,
    "editable": false,
    "nbgrader": {
     "cell_type": "markdown",
     "checksum": "b53884328815ddba544afed9dc5b97dc",
     "grade": false,
     "grade_id": "cell-bf1eaea0989ebcf2",
     "locked": true,
     "schema_version": 3,
     "solution": false,
     "task": false
    }
   },
   "source": [
    "Now, let's plot the results of your implementation. Are the results correct? Are there any undetected lines or wrong lines returned? If yes, why are those lines missing and why are there false positives? Can you think of ways to avoid those mistakes?"
   ]
  },
  {
   "cell_type": "code",
   "execution_count": null,
   "metadata": {
    "deletable": false,
    "editable": false,
    "nbgrader": {
     "cell_type": "code",
     "checksum": "9a6e7fcffa852f6ae5cb2865f44d9e70",
     "grade": false,
     "grade_id": "cell-907990be67623cc2",
     "locked": true,
     "schema_version": 3,
     "solution": false,
     "task": false
    }
   },
   "outputs": [],
   "source": [
    "def plot_hough_lines(image, rho, theta):\n",
    "    # compute start and ending point of the line x*cos(theta)+y*sin(theta)=rho\n",
    "    x0, x1 = 0, image.shape[1] - 1\n",
    "    y0 = rho / np.sin(theta)\n",
    "    y1 = (rho - x1 * np.cos(theta)) / np.sin(theta)\n",
    "\n",
    "    # Check out this page for more drawing function in OpenCV:\n",
    "    # https://docs.opencv.org/3.1.0/dc/da5/tutorial_py_drawing_functions.html\n",
    "    for yy0, yy1 in zip(y0, y1):\n",
    "        cv2.line(image, (x0, int(yy0)), (x1, int(yy1)), color=(255, 0, 0), thickness=1)\n",
    "\n",
    "    return image\n",
    "\n",
    "# Find maximum\n",
    "rho_max_idx, theta_max_idx = find_hough_peaks(hough_space, 200)\n",
    "print(f'gantrycrane.png: found {len(rho_max_idx)} lines in the image.')\n",
    "rho_max, theta_max = rho_bins[rho_max_idx], theta_bins[theta_max_idx]\n",
    "\n",
    "color_image = imageio.imread('gantrycrane.png')\n",
    "image_with_lines = plot_hough_lines(color_image, rho_max, theta_max)\n",
    "\n",
    "# Plot\n",
    "fig, ax = plt.subplots(figsize=(8, 4))\n",
    "ax.imshow(image_with_lines)"
   ]
  },
  {
   "cell_type": "code",
   "execution_count": null,
   "metadata": {
    "deletable": false,
    "editable": false,
    "nbgrader": {
     "cell_type": "code",
     "checksum": "ce967b453c52dadd20cd024357232209",
     "grade": false,
     "grade_id": "cell-9146a5deeb7f5014",
     "locked": true,
     "schema_version": 3,
     "solution": false,
     "task": false
    }
   },
   "outputs": [],
   "source": [
    "# Try another image\n",
    "im = imageio.imread('circuit.png')\n",
    "\n",
    "blurred = cv2.GaussianBlur(im, None, sigmaX=2)\n",
    "edge = cv2.Canny(blurred, threshold1=30, threshold2=90)\n",
    "hough_space, rho_bins, theta_bins = hough_transform(edge, n_bins_rho=300, n_bins_theta=300)\n",
    "\n",
    "# Find maximum\n",
    "rho_max_idx, theta_max_idx = find_hough_peaks(hough_space, 100)\n",
    "print(f'circuit.png: found {len(rho_max_idx)} lines in the image.')\n",
    "rho_max, theta_max = rho_bins[rho_max_idx], theta_bins[theta_max_idx]\n",
    "color_image = cv2.cvtColor(im, cv2.COLOR_GRAY2RGB)\n",
    "image_with_lines = plot_hough_lines(color_image, rho_max, theta_max)\n",
    "\n",
    "# Plot\n",
    "fig, ax = plt.subplots(figsize=(8, 4))\n",
    "ax.imshow(image_with_lines)\n",
    "fig.tight_layout()"
   ]
  },
  {
   "cell_type": "markdown",
   "metadata": {
    "deletable": false,
    "editable": false,
    "nbgrader": {
     "cell_type": "markdown",
     "checksum": "485921dd30b4e81e44c9f57078d5ce9e",
     "grade": false,
     "grade_id": "cell-4c4f254eda2f3934",
     "locked": true,
     "schema_version": 3,
     "solution": false,
     "task": false
    }
   },
   "source": [
    "## [OPTIONAL] Circle Hough transform for circles\n",
    "\n",
    "The Hough transform is a general technique that can not only be applied to lines, but also to other parametric curves, such as circles.\n",
    "In the following, we will show how the implementation can be extended to finding circles.\n",
    "\n",
    "A circle can be parameterized by the following equation:\n",
    "$$\t\n",
    "    (\\mathtt{x}-a)^2 + (\\mathtt{y}-b)^2 = r^2. \\label{eq:hough_circle}\n",
    "$$\n",
    "\n",
    "Unfortunately, the computation and memory requirements for the Hough transform increase exponentially with the number of parameters.\n",
    "While a 3D search space is still just feasible, we can dramatically reduce the amount of computation by integrating the gradient direction in the algorithm.\n",
    "\n",
    "Without gradient information, all values $a, b$ lying on the cone given by above equation are incremented.\n",
    "With the gradient information, we only need to increment points on an arc centered at $(a, b)$:\n",
    "\\begin{eqnarray}\n",
    "\ta &=& x + r\\cos\\phi\\\\\n",
    "\tb &=& y + r\\sin\\phi,\n",
    "\\end{eqnarray}\n",
    "where $\\phi$ is the gradient angle returned by the edge operator.\n",
    "\n",
    "Create a function ``hough_circle`` which implements the Hough transform for circles.\n",
    "Try your implementation for a practical application of counting coins in an image.\n",
    "You can use the images ``coins1.png`` and ``coins2.png`` for testing."
   ]
  },
  {
   "cell_type": "code",
   "execution_count": null,
   "metadata": {
    "deletable": false,
    "nbgrader": {
     "cell_type": "code",
     "checksum": "3f536f36e46b4aee218ff2c215245188",
     "grade": true,
     "grade_id": "cell-a5dacf84fd9a91bf",
     "locked": false,
     "points": 0,
     "schema_version": 3,
     "solution": true,
     "task": false
    }
   },
   "outputs": [],
   "source": [
    "# YOUR CODE HERE\n",
    "raise NotImplementedError()"
   ]
  },
  {
   "cell_type": "markdown",
   "metadata": {
    "deletable": false,
    "editable": false,
    "nbgrader": {
     "cell_type": "markdown",
     "checksum": "ce8da9c95316cec9ae27e4fc7fc25bed",
     "grade": false,
     "grade_id": "cell-41820471cfcf26e4",
     "locked": true,
     "schema_version": 3,
     "solution": false,
     "task": false
    }
   },
   "source": [
    "## [OPTIONAL] Line Hough transform with gradient information \n",
    "The same trick of using the image gradient can be used for lines.\n",
    "Modify the hough voting code to only vote for one line per edge pixel, instead of all the lines running through this pixel.\n",
    "Can you think of any disadvantages of this approach?"
   ]
  },
  {
   "cell_type": "code",
   "execution_count": null,
   "metadata": {
    "deletable": false,
    "nbgrader": {
     "cell_type": "code",
     "checksum": "467a127fdea81ed2a5a555c9a3bb8b93",
     "grade": true,
     "grade_id": "cell-e382b415b74d990b",
     "locked": false,
     "points": 0,
     "schema_version": 3,
     "solution": true,
     "task": false
    }
   },
   "outputs": [],
   "source": [
    "# YOUR CODE HERE\n",
    "raise NotImplementedError()"
   ]
  },
  {
   "cell_type": "markdown",
   "metadata": {
    "deletable": false,
    "editable": false,
    "nbgrader": {
     "cell_type": "markdown",
     "checksum": "a9b5632ddff78a43fb034b73009de4cc",
     "grade": false,
     "grade_id": "cell-9d22ec40eaf63a5e",
     "locked": true,
     "schema_version": 3,
     "solution": false,
     "task": false
    }
   },
   "source": [
    "## [OPTIONAL] Counting coins\n",
    "\n",
    "Can you build a demo application that takes a photo of several different Euro coins lying on a table as input and tells you how much money it is in total in Euros (i.e. the output is one number)?\n",
    "\n",
    "How well does it work when the coins start to overlap or lie on top of each other?\n",
    "\n",
    "Use the functions you wrote in the previous questions.\n",
    "(Hint: you may need to include a reference shape in the picture in order to obtain the absolute scale, i. e. to convert from pixels to millimeters)."
   ]
  },
  {
   "cell_type": "code",
   "execution_count": null,
   "metadata": {
    "deletable": false,
    "nbgrader": {
     "cell_type": "code",
     "checksum": "29b7e00c0630052ea82f55bccf4abb06",
     "grade": true,
     "grade_id": "cell-44df0dca84e96cbb",
     "locked": false,
     "points": 0,
     "schema_version": 3,
     "solution": true,
     "task": false
    }
   },
   "outputs": [],
   "source": [
    "# YOUR CODE HERE\n",
    "raise NotImplementedError()"
   ]
  }
 ],
 "metadata": {
  "kernelspec": {
   "display_name": "Python 3 (ipykernel)",
   "language": "python",
   "name": "python3"
  },
  "language_info": {
   "codemirror_mode": {
    "name": "ipython",
    "version": 3
   },
   "file_extension": ".py",
   "mimetype": "text/x-python",
   "name": "python",
   "nbconvert_exporter": "python",
   "pygments_lexer": "ipython3",
   "version": "3.10.4"
  }
 },
 "nbformat": 4,
 "nbformat_minor": 2
}
